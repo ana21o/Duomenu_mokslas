{
 "cells": [
  {
   "cell_type": "code",
   "execution_count": 57,
   "metadata": {},
   "outputs": [
    {
     "name": "stdout",
     "output_type": "stream",
     "text": [
      "0.5653153153153153\n",
      "0.5514440433212996\n"
     ]
    }
   ],
   "source": [
    "import pandas as pd\n",
    "from sklearn.cluster import KMeans\n",
    "from sklearn.preprocessing import StandardScaler\n",
    "from sklearn.model_selection import train_test_split\n",
    "from sklearn.naive_bayes import GaussianNB\n",
    "from sklearn.metrics import accuracy_score\n",
    "\n",
    "df = pd.read_csv('marketing_campaign.csv', sep='\\t')\n",
    "df = df[df['Income'].notna()]\n",
    "y = df['Response']\n",
    "X = df.drop(['Response', 'Education', 'Marital_Status', 'Dt_Customer'], axis=1)\n",
    "\n",
    "# scaler = StandardScaler()\n",
    "# scaled_data = scaler.fit_transform(X)\n",
    "# # print(scaled_data)\n",
    "\n",
    "kmeans = KMeans(n_clusters=2, random_state=10)\n",
    "clusters = kmeans.fit_predict(X)\n",
    "# print(clusters)\n",
    "\n",
    "\n",
    "X_train, X_test, clusters_train, clusters_test, y_train, y_test = train_test_split(X, clusters, y, test_size=0.2, random_state=42)\n",
    "\n",
    "model = GaussianNB()\n",
    "model.fit(X_train, clusters_train)\n",
    "\n",
    "y_pred = model.predict(X_test)\n",
    "\n",
    "accuracy = accuracy_score(y_pred, y_test)\n",
    "print(accuracy)\n",
    "\n",
    "clusters_accuracy = accuracy_score(clusters, y)\n",
    "print(clusters_accuracy)\n",
    "\n"
   ]
  }
 ],
 "metadata": {
  "kernelspec": {
   "display_name": "mokymai",
   "language": "python",
   "name": "python3"
  },
  "language_info": {
   "codemirror_mode": {
    "name": "ipython",
    "version": 3
   },
   "file_extension": ".py",
   "mimetype": "text/x-python",
   "name": "python",
   "nbconvert_exporter": "python",
   "pygments_lexer": "ipython3",
   "version": "3.12.3"
  }
 },
 "nbformat": 4,
 "nbformat_minor": 2
}
