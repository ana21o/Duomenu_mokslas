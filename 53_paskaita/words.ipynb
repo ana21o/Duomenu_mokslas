{
 "cells": [
  {
   "cell_type": "code",
   "execution_count": 1,
   "metadata": {},
   "outputs": [
    {
     "name": "stderr",
     "output_type": "stream",
     "text": [
      "c:\\Users\\ostap\\Desktop\\Mokymai\\Duomenu_mokslas\\mokymai\\Lib\\site-packages\\keras\\src\\layers\\core\\embedding.py:90: UserWarning: Argument `input_length` is deprecated. Just remove it.\n",
      "  warnings.warn(\n"
     ]
    },
    {
     "name": "stdout",
     "output_type": "stream",
     "text": [
      "Epoch 1/50\n",
      "\u001b[1m1266/1266\u001b[0m \u001b[32m━━━━━━━━━━━━━━━━━━━━\u001b[0m\u001b[37m\u001b[0m \u001b[1m28s\u001b[0m 19ms/step - loss: 8.6071\n",
      "Epoch 2/50\n",
      "\u001b[1m1266/1266\u001b[0m \u001b[32m━━━━━━━━━━━━━━━━━━━━\u001b[0m\u001b[37m\u001b[0m \u001b[1m24s\u001b[0m 19ms/step - loss: 7.8851\n",
      "Epoch 3/50\n",
      "\u001b[1m1266/1266\u001b[0m \u001b[32m━━━━━━━━━━━━━━━━━━━━\u001b[0m\u001b[37m\u001b[0m \u001b[1m23s\u001b[0m 19ms/step - loss: 7.5660\n",
      "Epoch 4/50\n",
      "\u001b[1m1266/1266\u001b[0m \u001b[32m━━━━━━━━━━━━━━━━━━━━\u001b[0m\u001b[37m\u001b[0m \u001b[1m22s\u001b[0m 17ms/step - loss: 7.0153\n",
      "Epoch 5/50\n",
      "\u001b[1m1266/1266\u001b[0m \u001b[32m━━━━━━━━━━━━━━━━━━━━\u001b[0m\u001b[37m\u001b[0m \u001b[1m23s\u001b[0m 18ms/step - loss: 6.4162\n",
      "Epoch 6/50\n",
      "\u001b[1m1266/1266\u001b[0m \u001b[32m━━━━━━━━━━━━━━━━━━━━\u001b[0m\u001b[37m\u001b[0m \u001b[1m24s\u001b[0m 19ms/step - loss: 5.7934\n",
      "Epoch 7/50\n",
      "\u001b[1m1266/1266\u001b[0m \u001b[32m━━━━━━━━━━━━━━━━━━━━\u001b[0m\u001b[37m\u001b[0m \u001b[1m23s\u001b[0m 18ms/step - loss: 5.1436\n",
      "Epoch 8/50\n",
      "\u001b[1m1266/1266\u001b[0m \u001b[32m━━━━━━━━━━━━━━━━━━━━\u001b[0m\u001b[37m\u001b[0m \u001b[1m24s\u001b[0m 19ms/step - loss: 4.4968\n",
      "Epoch 9/50\n",
      "\u001b[1m1266/1266\u001b[0m \u001b[32m━━━━━━━━━━━━━━━━━━━━\u001b[0m\u001b[37m\u001b[0m \u001b[1m24s\u001b[0m 19ms/step - loss: 3.8985\n",
      "Epoch 10/50\n",
      "\u001b[1m1266/1266\u001b[0m \u001b[32m━━━━━━━━━━━━━━━━━━━━\u001b[0m\u001b[37m\u001b[0m \u001b[1m24s\u001b[0m 19ms/step - loss: 3.3646\n",
      "Epoch 11/50\n",
      "\u001b[1m1266/1266\u001b[0m \u001b[32m━━━━━━━━━━━━━━━━━━━━\u001b[0m\u001b[37m\u001b[0m \u001b[1m24s\u001b[0m 19ms/step - loss: 2.8725\n",
      "Epoch 12/50\n",
      "\u001b[1m1266/1266\u001b[0m \u001b[32m━━━━━━━━━━━━━━━━━━━━\u001b[0m\u001b[37m\u001b[0m \u001b[1m24s\u001b[0m 19ms/step - loss: 2.4193\n",
      "Epoch 13/50\n",
      "\u001b[1m1266/1266\u001b[0m \u001b[32m━━━━━━━━━━━━━━━━━━━━\u001b[0m\u001b[37m\u001b[0m \u001b[1m24s\u001b[0m 19ms/step - loss: 2.0542\n",
      "Epoch 14/50\n",
      "\u001b[1m1266/1266\u001b[0m \u001b[32m━━━━━━━━━━━━━━━━━━━━\u001b[0m\u001b[37m\u001b[0m \u001b[1m24s\u001b[0m 19ms/step - loss: 1.7362\n",
      "Epoch 15/50\n",
      "\u001b[1m1266/1266\u001b[0m \u001b[32m━━━━━━━━━━━━━━━━━━━━\u001b[0m\u001b[37m\u001b[0m \u001b[1m24s\u001b[0m 19ms/step - loss: 1.4661\n",
      "Epoch 16/50\n",
      "\u001b[1m1266/1266\u001b[0m \u001b[32m━━━━━━━━━━━━━━━━━━━━\u001b[0m\u001b[37m\u001b[0m \u001b[1m24s\u001b[0m 19ms/step - loss: 1.2112\n",
      "Epoch 17/50\n",
      "\u001b[1m1266/1266\u001b[0m \u001b[32m━━━━━━━━━━━━━━━━━━━━\u001b[0m\u001b[37m\u001b[0m \u001b[1m24s\u001b[0m 19ms/step - loss: 1.0184\n",
      "Epoch 18/50\n",
      "\u001b[1m1266/1266\u001b[0m \u001b[32m━━━━━━━━━━━━━━━━━━━━\u001b[0m\u001b[37m\u001b[0m \u001b[1m24s\u001b[0m 19ms/step - loss: 0.8558\n",
      "Epoch 19/50\n",
      "\u001b[1m1266/1266\u001b[0m \u001b[32m━━━━━━━━━━━━━━━━━━━━\u001b[0m\u001b[37m\u001b[0m \u001b[1m24s\u001b[0m 19ms/step - loss: 0.6935\n",
      "Epoch 20/50\n",
      "\u001b[1m1266/1266\u001b[0m \u001b[32m━━━━━━━━━━━━━━━━━━━━\u001b[0m\u001b[37m\u001b[0m \u001b[1m24s\u001b[0m 19ms/step - loss: 0.5692\n",
      "Epoch 21/50\n",
      "\u001b[1m1266/1266\u001b[0m \u001b[32m━━━━━━━━━━━━━━━━━━━━\u001b[0m\u001b[37m\u001b[0m \u001b[1m24s\u001b[0m 19ms/step - loss: 0.4734\n",
      "Epoch 22/50\n",
      "\u001b[1m1266/1266\u001b[0m \u001b[32m━━━━━━━━━━━━━━━━━━━━\u001b[0m\u001b[37m\u001b[0m \u001b[1m24s\u001b[0m 19ms/step - loss: 0.3835\n",
      "Epoch 23/50\n",
      "\u001b[1m1266/1266\u001b[0m \u001b[32m━━━━━━━━━━━━━━━━━━━━\u001b[0m\u001b[37m\u001b[0m \u001b[1m24s\u001b[0m 19ms/step - loss: 0.3189\n",
      "Epoch 24/50\n",
      "\u001b[1m1266/1266\u001b[0m \u001b[32m━━━━━━━━━━━━━━━━━━━━\u001b[0m\u001b[37m\u001b[0m \u001b[1m24s\u001b[0m 19ms/step - loss: 0.2592\n",
      "Epoch 25/50\n",
      "\u001b[1m1266/1266\u001b[0m \u001b[32m━━━━━━━━━━━━━━━━━━━━\u001b[0m\u001b[37m\u001b[0m \u001b[1m24s\u001b[0m 19ms/step - loss: 0.2077\n",
      "Epoch 26/50\n",
      "\u001b[1m1266/1266\u001b[0m \u001b[32m━━━━━━━━━━━━━━━━━━━━\u001b[0m\u001b[37m\u001b[0m \u001b[1m24s\u001b[0m 19ms/step - loss: 0.1699\n",
      "Epoch 27/50\n",
      "\u001b[1m1266/1266\u001b[0m \u001b[32m━━━━━━━━━━━━━━━━━━━━\u001b[0m\u001b[37m\u001b[0m \u001b[1m24s\u001b[0m 19ms/step - loss: 0.1417\n",
      "Epoch 28/50\n",
      "\u001b[1m1266/1266\u001b[0m \u001b[32m━━━━━━━━━━━━━━━━━━━━\u001b[0m\u001b[37m\u001b[0m \u001b[1m24s\u001b[0m 19ms/step - loss: 0.1146\n",
      "Epoch 29/50\n",
      "\u001b[1m1266/1266\u001b[0m \u001b[32m━━━━━━━━━━━━━━━━━━━━\u001b[0m\u001b[37m\u001b[0m \u001b[1m24s\u001b[0m 19ms/step - loss: 0.0933\n",
      "Epoch 30/50\n",
      "\u001b[1m1266/1266\u001b[0m \u001b[32m━━━━━━━━━━━━━━━━━━━━\u001b[0m\u001b[37m\u001b[0m \u001b[1m24s\u001b[0m 19ms/step - loss: 0.0837\n",
      "Epoch 31/50\n",
      "\u001b[1m1266/1266\u001b[0m \u001b[32m━━━━━━━━━━━━━━━━━━━━\u001b[0m\u001b[37m\u001b[0m \u001b[1m24s\u001b[0m 19ms/step - loss: 0.0674\n",
      "Epoch 32/50\n",
      "\u001b[1m1266/1266\u001b[0m \u001b[32m━━━━━━━━━━━━━━━━━━━━\u001b[0m\u001b[37m\u001b[0m \u001b[1m24s\u001b[0m 19ms/step - loss: 0.0616\n",
      "Epoch 33/50\n",
      "\u001b[1m1266/1266\u001b[0m \u001b[32m━━━━━━━━━━━━━━━━━━━━\u001b[0m\u001b[37m\u001b[0m \u001b[1m24s\u001b[0m 19ms/step - loss: 0.0562\n",
      "Epoch 34/50\n",
      "\u001b[1m1266/1266\u001b[0m \u001b[32m━━━━━━━━━━━━━━━━━━━━\u001b[0m\u001b[37m\u001b[0m \u001b[1m24s\u001b[0m 19ms/step - loss: 0.0456\n",
      "Epoch 35/50\n",
      "\u001b[1m1266/1266\u001b[0m \u001b[32m━━━━━━━━━━━━━━━━━━━━\u001b[0m\u001b[37m\u001b[0m \u001b[1m24s\u001b[0m 19ms/step - loss: 0.0448\n",
      "Epoch 36/50\n",
      "\u001b[1m1266/1266\u001b[0m \u001b[32m━━━━━━━━━━━━━━━━━━━━\u001b[0m\u001b[37m\u001b[0m \u001b[1m24s\u001b[0m 19ms/step - loss: 0.0416\n",
      "Epoch 37/50\n",
      "\u001b[1m1266/1266\u001b[0m \u001b[32m━━━━━━━━━━━━━━━━━━━━\u001b[0m\u001b[37m\u001b[0m \u001b[1m24s\u001b[0m 19ms/step - loss: 0.0356\n",
      "Epoch 38/50\n",
      "\u001b[1m1266/1266\u001b[0m \u001b[32m━━━━━━━━━━━━━━━━━━━━\u001b[0m\u001b[37m\u001b[0m \u001b[1m23s\u001b[0m 18ms/step - loss: 0.0315\n",
      "Epoch 39/50\n",
      "\u001b[1m1266/1266\u001b[0m \u001b[32m━━━━━━━━━━━━━━━━━━━━\u001b[0m\u001b[37m\u001b[0m \u001b[1m23s\u001b[0m 18ms/step - loss: 0.0367\n",
      "Epoch 40/50\n",
      "\u001b[1m1266/1266\u001b[0m \u001b[32m━━━━━━━━━━━━━━━━━━━━\u001b[0m\u001b[37m\u001b[0m \u001b[1m23s\u001b[0m 18ms/step - loss: 0.0284\n",
      "Epoch 41/50\n",
      "\u001b[1m1266/1266\u001b[0m \u001b[32m━━━━━━━━━━━━━━━━━━━━\u001b[0m\u001b[37m\u001b[0m \u001b[1m23s\u001b[0m 18ms/step - loss: 0.0290\n",
      "Epoch 42/50\n",
      "\u001b[1m1266/1266\u001b[0m \u001b[32m━━━━━━━━━━━━━━━━━━━━\u001b[0m\u001b[37m\u001b[0m \u001b[1m23s\u001b[0m 18ms/step - loss: 0.0292\n",
      "Epoch 43/50\n",
      "\u001b[1m1266/1266\u001b[0m \u001b[32m━━━━━━━━━━━━━━━━━━━━\u001b[0m\u001b[37m\u001b[0m \u001b[1m23s\u001b[0m 18ms/step - loss: 0.0319\n",
      "Epoch 44/50\n",
      "\u001b[1m1266/1266\u001b[0m \u001b[32m━━━━━━━━━━━━━━━━━━━━\u001b[0m\u001b[37m\u001b[0m \u001b[1m23s\u001b[0m 18ms/step - loss: 0.0244\n",
      "Epoch 45/50\n",
      "\u001b[1m1266/1266\u001b[0m \u001b[32m━━━━━━━━━━━━━━━━━━━━\u001b[0m\u001b[37m\u001b[0m \u001b[1m23s\u001b[0m 18ms/step - loss: 0.0256\n",
      "Epoch 46/50\n",
      "\u001b[1m1266/1266\u001b[0m \u001b[32m━━━━━━━━━━━━━━━━━━━━\u001b[0m\u001b[37m\u001b[0m \u001b[1m23s\u001b[0m 18ms/step - loss: 0.0223\n",
      "Epoch 47/50\n",
      "\u001b[1m1266/1266\u001b[0m \u001b[32m━━━━━━━━━━━━━━━━━━━━\u001b[0m\u001b[37m\u001b[0m \u001b[1m23s\u001b[0m 18ms/step - loss: 0.0246\n",
      "Epoch 48/50\n",
      "\u001b[1m1266/1266\u001b[0m \u001b[32m━━━━━━━━━━━━━━━━━━━━\u001b[0m\u001b[37m\u001b[0m \u001b[1m23s\u001b[0m 18ms/step - loss: 0.0238\n",
      "Epoch 49/50\n",
      "\u001b[1m1266/1266\u001b[0m \u001b[32m━━━━━━━━━━━━━━━━━━━━\u001b[0m\u001b[37m\u001b[0m \u001b[1m23s\u001b[0m 18ms/step - loss: 0.0244\n",
      "Epoch 50/50\n",
      "\u001b[1m1266/1266\u001b[0m \u001b[32m━━━━━━━━━━━━━━━━━━━━\u001b[0m\u001b[37m\u001b[0m \u001b[1m23s\u001b[0m 18ms/step - loss: 0.0200\n"
     ]
    },
    {
     "data": {
      "text/plain": [
       "<keras.src.callbacks.history.History at 0x21f51c30f80>"
      ]
     },
     "execution_count": 1,
     "metadata": {},
     "output_type": "execute_result"
    }
   ],
   "source": [
    "from tensorflow.keras.preprocessing.text import Tokenizer\n",
    "from tensorflow.keras.utils import to_categorical\n",
    "import numpy as np\n",
    "from tensorflow.keras.models import Sequential\n",
    "from tensorflow.keras.layers import Embedding, LSTM, Dense\n",
    "\n",
    "with open(\"tekstas.txt\", \"r\", encoding='utf-8') as f:\n",
    "  data = f.read()\n",
    "\n",
    "# data = 'cia yra pradinis tekstas, veliau jo turesime daugiau'\n",
    "\n",
    "tokenizer = Tokenizer() # sukuriame tokenizer objekta, kuris konvertuos tekstas i skaitinius zodziu indeksus\n",
    "tokenizer.fit_on_texts([data]) # mokome tokenizer su duomenimis\n",
    "sequences = tokenizer.texts_to_sequences([data])[0]\n",
    "\n",
    "vocab_size = len(tokenizer.word_index) +1 # deklaruojame kiek zodziu mes turesime savo zodyne, jo veliau reikes nurodant isejimo galimybes\n",
    "\n",
    "sequence_length = 5\n",
    "x = []\n",
    "y = []\n",
    "\n",
    "for i in range(sequence_length, len(sequences)): # uzpildome sarasus zodziu sekomis ir zodziais, einanciais po ju\n",
    "    x.append(sequences[i-sequence_length:i])\n",
    "    y.append(sequences[i])\n",
    "x = np.array(x) # konvertuojame x i matrica\n",
    "y = to_categorical(y, num_classes=vocab_size)\n",
    "\n",
    "\n",
    "model = Sequential([\n",
    "    Embedding(vocab_size, 50, input_length=sequence_length),\n",
    "    LSTM(128),\n",
    "    Dense(vocab_size, activation='softmax')\n",
    "])\n",
    "\n",
    "model.compile(optimizer='adam', loss='categorical_crossentropy')\n",
    "model.fit(x, y, epochs=50)"
   ]
  },
  {
   "cell_type": "code",
   "execution_count": 3,
   "metadata": {},
   "outputs": [
    {
     "data": {
      "text/plain": [
       "12421"
      ]
     },
     "execution_count": 3,
     "metadata": {},
     "output_type": "execute_result"
    }
   ],
   "source": [
    "vocab_size"
   ]
  },
  {
   "cell_type": "code",
   "execution_count": 2,
   "metadata": {},
   "outputs": [
    {
     "name": "stdout",
     "output_type": "stream",
     "text": [
      "Tai pirmasis lietuvių originaliosios poezijos kūrinys eilėraštis jo turinys pasaulietinis šis eilėraštis kaip ir kiti senieji lietuviški religiniai raštai svarbus ir kultūros bei kalbos istorijai ir literatūros mokslui – taip prieš daugelį metų rašė vincas mykolaitis putinas eiliuotoji pratarmė kur mažvydas kaip minėjome savo vardą ir pavardę pasirašė akrostichu yra publicistinio pobūdžio 112 eilučių kūrinys pirmaisiais\n"
     ]
    }
   ],
   "source": [
    "pradinis_tekstas = 'Tai pirmasis lietuvių originaliosios poezijos kūrinys'\n",
    "\n",
    "for _ in range(50):\n",
    "    words_list = tokenizer.texts_to_sequences([pradinis_tekstas])[0]\n",
    "    spejimo_sequence = np.array(words_list[-sequence_length:])\n",
    "    x = np.expand_dims(spejimo_sequence, axis=0)\n",
    "    predicted = model.predict(x, verbose=0)\n",
    "    predicted_index = np.argmax(predicted, axis=1)[0]\n",
    "    word = tokenizer.index_word[predicted_index]\n",
    "    pradinis_tekstas += \" \" + word\n",
    "    \n",
    "print(pradinis_tekstas)"
   ]
  }
 ],
 "metadata": {
  "kernelspec": {
   "display_name": "mokymai",
   "language": "python",
   "name": "python3"
  },
  "language_info": {
   "codemirror_mode": {
    "name": "ipython",
    "version": 3
   },
   "file_extension": ".py",
   "mimetype": "text/x-python",
   "name": "python",
   "nbconvert_exporter": "python",
   "pygments_lexer": "ipython3",
   "version": "3.12.3"
  }
 },
 "nbformat": 4,
 "nbformat_minor": 2
}
