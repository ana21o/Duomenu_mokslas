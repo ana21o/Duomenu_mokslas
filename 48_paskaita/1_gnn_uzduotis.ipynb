{
 "cells": [
  {
   "cell_type": "markdown",
   "metadata": {},
   "source": [
    "Pritaikykite anksčiau matytą pavyzdį su iris datasetu, tačiau šį kart jį pritaikykite wines datasetui"
   ]
  },
  {
   "cell_type": "code",
   "execution_count": 14,
   "metadata": {},
   "outputs": [
    {
     "name": "stdout",
     "output_type": "stream",
     "text": [
      "Prognozės: [0 0 2 0 1 0 1 2 1 2 0 2 0 1 0 1 1 1 0 1 0 1 1 2 2 2 1 1 1 0 0 1 2 0 0 0]\n",
      "Tikslumas: 1.0\n"
     ]
    }
   ],
   "source": [
    "import numpy as np\n",
    "from sklearn.datasets import load_wine\n",
    "from sklearn.model_selection import train_test_split\n",
    "from sklearn.preprocessing import StandardScaler\n",
    "\n",
    "def sigmoid(x):\n",
    "    return 1 / (1 + np.exp(-x))\n",
    "\n",
    "def sigmoid_derivative(x):\n",
    "    return x * (1-x)\n",
    "\n",
    "class NeuralNetwork:\n",
    "    def __init__(self, input_size, hidden_size, output_size):\n",
    "        self.weights_input_hidden = np.random.rand(input_size, hidden_size)\n",
    "        self.weights_output_hidden = np.random.rand(hidden_size, output_size)\n",
    "\n",
    "    def feed_forward(self, X):\n",
    "        self.hidden_layer = sigmoid(np.dot(X, self.weights_input_hidden))\n",
    "        self.output = sigmoid(np.dot(self.hidden_layer, self.weights_output_hidden))\n",
    "\n",
    "    def backpropagation(self, X, y, learning_rate):\n",
    "        output_error = y - self.output\n",
    "        d_output = output_error * sigmoid_derivative(self.output)\n",
    "        hidden_error = d_output.dot(self.weights_output_hidden.T)\n",
    "        d_hidden = hidden_error * sigmoid_derivative(self.hidden_layer)\n",
    "        self.weights_output_hidden += self.hidden_layer.T.dot(d_output) * learning_rate\n",
    "        self.weights_input_hidden += X.T.dot(d_hidden) * learning_rate\n",
    "    \n",
    "    def train(self, X, y, epochs, learning_rate):\n",
    "        for _ in range(epochs):\n",
    "            self.feed_forward(X)\n",
    "            self.backpropagation(X, y, learning_rate)\n",
    "\n",
    "    def predict(self, X):\n",
    "        self.feed_forward(X)\n",
    "        return np.round(self.output)\n",
    "    \n",
    "wines = load_wine()\n",
    "X = wines.data\n",
    "y = wines.target\n",
    "\n",
    "X_train, X_test, y_train, y_test = train_test_split(X, y, test_size=0.2, random_state=42)\n",
    "\n",
    "scaler = StandardScaler()\n",
    "X_train_scaled = scaler.fit_transform(X_train)\n",
    "X_test_scaled = scaler.transform(X_test)\n",
    "\n",
    "input_size = X_train_scaled.shape[1]\n",
    "output_size = len(np.unique(y_train))\n",
    "hidden_size = 8\n",
    "\n",
    "nn = NeuralNetwork(input_size, hidden_size, output_size)\n",
    "nn.train(X_train_scaled, np.eye(output_size)[y_train], epochs=1000, learning_rate=0.1)\n",
    "\n",
    "y_pred = nn.predict(X_test_scaled)\n",
    "\n",
    "y_pred_labels = np.argmax(y_pred, axis=1)\n",
    "accuracy = np.mean(y_pred_labels == y_test)\n",
    "print(\"Prognozės:\", y_pred_labels)\n",
    "print(\"Tikslumas:\", accuracy)"
   ]
  }
 ],
 "metadata": {
  "kernelspec": {
   "display_name": "mokymai",
   "language": "python",
   "name": "python3"
  },
  "language_info": {
   "codemirror_mode": {
    "name": "ipython",
    "version": 3
   },
   "file_extension": ".py",
   "mimetype": "text/x-python",
   "name": "python",
   "nbconvert_exporter": "python",
   "pygments_lexer": "ipython3",
   "version": "3.12.3"
  }
 },
 "nbformat": 4,
 "nbformat_minor": 2
}
