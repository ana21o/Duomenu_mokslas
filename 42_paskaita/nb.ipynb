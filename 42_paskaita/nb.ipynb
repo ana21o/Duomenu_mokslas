{
 "cells": [
  {
   "cell_type": "code",
   "execution_count": 1,
   "metadata": {},
   "outputs": [
    {
     "name": "stdout",
     "output_type": "stream",
     "text": [
      "0.9473684210526315\n"
     ]
    }
   ],
   "source": [
    "from sklearn.model_selection import train_test_split\n",
    "from sklearn.naive_bayes import GaussianNB\n",
    "from sklearn.datasets import load_iris\n",
    "from sklearn.metrics import accuracy_score\n",
    "\n",
    "\n",
    "iris = load_iris()\n",
    "X = iris.data\n",
    "y = iris.target\n",
    "\n",
    "X_train, X_test, y_train, y_test = train_test_split(X, y)\n",
    "\n",
    "model = GaussianNB()\n",
    "model.fit(X_train, y_train)\n",
    "\n",
    "y_pred = model.predict(X_test)\n",
    "accuracy = accuracy_score(y_pred, y_test)\n",
    "print(accuracy)"
   ]
  },
  {
   "cell_type": "code",
   "execution_count": 13,
   "metadata": {},
   "outputs": [
    {
     "name": "stdout",
     "output_type": "stream",
     "text": [
      "1984\n"
     ]
    }
   ],
   "source": [
    "from sklearn.datasets import fetch_20newsgroups\n",
    "import ssl\n",
    "from pprint import pprint\n",
    "ssl._create_default_https_context = ssl._create_unverified_context\n",
    "\n",
    "newsgroups = fetch_20newsgroups(subset='all', categories=['rec.sport.baseball', 'sci.med'])\n",
    "# pprint(newsgroups)\n",
    "\n",
    "# print(type(newsgroups.data[0]))\n",
    "\n",
    "# with open('data.txt', 'a+', encoding='utf-8' ) as f:\n",
    "#     for straipsnis in newsgroups.data:\n",
    "#         f.write(f\"{straipsnis}ą\")\n",
    "\n",
    "# with open('target.txt', 'w') as f:\n",
    "#     f.write(str(list(newsgroups.target)))\n",
    "\n",
    "# print(len(newsgroups.data))\n",
    "\n"
   ]
  },
  {
   "cell_type": "code",
   "execution_count": 18,
   "metadata": {},
   "outputs": [
    {
     "name": "stdout",
     "output_type": "stream",
     "text": [
      "0.9899193548387096\n",
      "              precision    recall  f1-score   support\n",
      "\n",
      "           0       1.00      0.98      0.99       249\n",
      "           1       0.98      1.00      0.99       247\n",
      "           1       0.00      0.00      0.00         0\n",
      "\n",
      "    accuracy                           0.99       496\n",
      "   macro avg       0.66      0.66      0.66       496\n",
      "weighted avg       0.99      0.99      0.99       496\n",
      "\n"
     ]
    },
    {
     "name": "stderr",
     "output_type": "stream",
     "text": [
      "c:\\Users\\ostap\\OneDrive\\Рабочий стол\\Mokymai\\Duomenu_mokslas\\mokymai\\Lib\\site-packages\\sklearn\\metrics\\_classification.py:1509: UndefinedMetricWarning: Recall is ill-defined and being set to 0.0 in labels with no true samples. Use `zero_division` parameter to control this behavior.\n",
      "  _warn_prf(average, modifier, f\"{metric.capitalize()} is\", len(result))\n",
      "c:\\Users\\ostap\\OneDrive\\Рабочий стол\\Mokymai\\Duomenu_mokslas\\mokymai\\Lib\\site-packages\\sklearn\\metrics\\_classification.py:1509: UndefinedMetricWarning: Recall is ill-defined and being set to 0.0 in labels with no true samples. Use `zero_division` parameter to control this behavior.\n",
      "  _warn_prf(average, modifier, f\"{metric.capitalize()} is\", len(result))\n",
      "c:\\Users\\ostap\\OneDrive\\Рабочий стол\\Mokymai\\Duomenu_mokslas\\mokymai\\Lib\\site-packages\\sklearn\\metrics\\_classification.py:1509: UndefinedMetricWarning: Recall is ill-defined and being set to 0.0 in labels with no true samples. Use `zero_division` parameter to control this behavior.\n",
      "  _warn_prf(average, modifier, f\"{metric.capitalize()} is\", len(result))\n"
     ]
    }
   ],
   "source": [
    "from sklearn.feature_extraction.text import TfidfVectorizer\n",
    "from sklearn.naive_bayes import MultinomialNB\n",
    "from sklearn.pipeline import make_pipeline\n",
    "from sklearn.model_selection import train_test_split\n",
    "from sklearn.metrics import accuracy_score, classification_report, confusion_matrix\n",
    "\n",
    "\n",
    "\n",
    "with open('data.txt', 'r', encoding='utf-8') as f:\n",
    "    straipsniai = f.read()\n",
    "\n",
    "straipsniai = straipsniai.split('ą')\n",
    "straipsniai.pop(-1)\n",
    "\n",
    "with open('target.txt', 'r') as f:\n",
    "    straipsniu_kategorijos = f.read()\n",
    "\n",
    "straipsniu_kategorijos = straipsniu_kategorijos.replace(\"[\",\"\").replace(\"]\", \"\").split(\",\")\n",
    "\n",
    "straipsniai_mokymui, straipsniai_testui, straipsniu_k_mokymui, straipsniu_k_testui = train_test_split (straipsniai, straipsniu_kategorijos)\n",
    "\n",
    "\n",
    "vectorizer = TfidfVectorizer()\n",
    "classifier = MultinomialNB()\n",
    "\n",
    "model = make_pipeline(vectorizer, classifier)\n",
    "model.fit(straipsniai_mokymui, straipsniu_k_mokymui)\n",
    "\n",
    "straipsniu_k_predicted = model.predict(straipsniai_testui)\n",
    "\n",
    "tikslumas = accuracy_score(straipsniu_k_predicted, straipsniu_k_testui)\n",
    "print(tikslumas)\n",
    "\n",
    "print(classification_report(straipsniu_k_predicted, straipsniu_k_testui))\n"
   ]
  },
  {
   "cell_type": "code",
   "execution_count": 33,
   "metadata": {},
   "outputs": [
    {
     "name": "stdout",
     "output_type": "stream",
     "text": [
      "              precision    recall  f1-score   support\n",
      "\n",
      "          en       0.50      1.00      0.67         5\n",
      "          lt       0.00      0.00      0.00         5\n",
      "\n",
      "    accuracy                           0.50        10\n",
      "   macro avg       0.25      0.50      0.33        10\n",
      "weighted avg       0.25      0.50      0.33        10\n",
      "\n"
     ]
    },
    {
     "name": "stderr",
     "output_type": "stream",
     "text": [
      "c:\\Users\\ostap\\OneDrive\\Рабочий стол\\Mokymai\\Duomenu_mokslas\\mokymai\\Lib\\site-packages\\sklearn\\metrics\\_classification.py:1509: UndefinedMetricWarning: Precision is ill-defined and being set to 0.0 in labels with no predicted samples. Use `zero_division` parameter to control this behavior.\n",
      "  _warn_prf(average, modifier, f\"{metric.capitalize()} is\", len(result))\n",
      "c:\\Users\\ostap\\OneDrive\\Рабочий стол\\Mokymai\\Duomenu_mokslas\\mokymai\\Lib\\site-packages\\sklearn\\metrics\\_classification.py:1509: UndefinedMetricWarning: Precision is ill-defined and being set to 0.0 in labels with no predicted samples. Use `zero_division` parameter to control this behavior.\n",
      "  _warn_prf(average, modifier, f\"{metric.capitalize()} is\", len(result))\n",
      "c:\\Users\\ostap\\OneDrive\\Рабочий стол\\Mokymai\\Duomenu_mokslas\\mokymai\\Lib\\site-packages\\sklearn\\metrics\\_classification.py:1509: UndefinedMetricWarning: Precision is ill-defined and being set to 0.0 in labels with no predicted samples. Use `zero_division` parameter to control this behavior.\n",
      "  _warn_prf(average, modifier, f\"{metric.capitalize()} is\", len(result))\n"
     ]
    }
   ],
   "source": [
    "from sklearn.feature_extraction.text import TfidfVectorizer\n",
    "from sklearn.naive_bayes import MultinomialNB\n",
    "from sklearn.pipeline import make_pipeline\n",
    "from sklearn.model_selection import train_test_split\n",
    "from sklearn.metrics import accuracy_score, classification_report, confusion_matrix\n",
    "\n",
    "lt_words = [\n",
    "    \"namas\", \"knyga\", \"šuo\", \"katė\", \"žmogus\", \"medis\", \"upė\", \"upelis\", \"miškas\", \"žolė\",\n",
    "    \"mašina\", \"kelias\", \"dangaus\", \"žemė\", \"vanduo\", \"oras\", \"vėjas\", \"saulė\", \"mėnulis\", \"žvaigždė\"\n",
    "]\n",
    "\n",
    "en_words = [\n",
    "    \"house\", \"book\", \"dog\", \"cat\", \"person\", \"tree\", \"river\", \"brook\", \"forest\", \"grass\",\n",
    "    \"car\", \"road\", \"sky\", \"earth\", \"water\", \"air\", \"wind\", \"sun\", \"moon\", \"star\"\n",
    "]\n",
    "\n",
    "data = lt_words + en_words\n",
    "\n",
    "labels = ['lt'] * 20 + ['en'] * 20\n",
    "\n",
    "X_train, X_test, y_train, y_test = train_test_split(data, labels)\n",
    "\n",
    "vectorizer = TfidfVectorizer()\n",
    "multimonia = MultinomialNB()\n",
    "\n",
    "model = make_pipeline(vectorizer, multimonia)\n",
    "model.fit(X_train, y_train)\n",
    "\n",
    "y_pred = model.predict(X_test)\n",
    "print(classification_report(y_test, y_pred))"
   ]
  },
  {
   "cell_type": "code",
   "execution_count": 51,
   "metadata": {},
   "outputs": [
    {
     "name": "stdout",
     "output_type": "stream",
     "text": [
      "174\n",
      "174\n",
      "0.6\n"
     ]
    }
   ],
   "source": [
    "from string import punctuation\n",
    "lt = \"Kartą gyveno mažas berniukas, vardu Jonas, kuris labai mėgo tyrinėti miškus. Vieną dieną, vaikščiodamas po giliąją girią, jis rado seną, paslaptingą durį, paslėptą po samanų ir vijoklių sluoksniu. Jonas atidarė duris ir pateko į magišką pasaulį, pilną stebuklingų būtybių ir nuostabių vaizdų. Pirmiausia jis sutiko mažą kiškutį, vardu Baltuolis, kuris galėjo kalbėti. Baltuolis pasakojo, kad šiame pasaulyje gyvena fėjos, nykštukai ir milžinai, kurie saugo mišką nuo piktojo raganos, vardu Ragana Juodoji. Ji norėjo užvaldyti visą mišką ir pavergti visas magiškas būtybes. Jonas nusprendė padėti miško gyventojams. Kartu su Baltuoliu jie nuėjo pas fėją Saulutę, kuri buvo miško karalienė. Saulutė davė Jonui stebuklingą lazdelę, kuri galėjo atstatyti miško harmoniją ir išgydyti bet kokią žalą. Jonas, Baltuolis ir Saulutė kartu susirėmė su Ragana Juodąja. Po ilgos kovos, Jonas panaudojo stebuklingą lazdelę ir nugalėjo raganą. Miškas vėl tapo taikus, o Jonas grįžo namo, nešinas nuostabiais prisiminimais. Nuo to laiko Jonas žinojo, kad net ir mažas žmogus gali padaryti didelius darbus, jei tik turi drąsos ir gerą širdį. Ir taip jis gyveno laimingai, prisimindamas savo nuotykius stebuklingame pasaulyje.\"\n",
    "\n",
    "en = 'Once upon a time, in a small village, there lived a girl named Ella. She loved exploring the forest near her home. One day, she found a hidden path she had never seen before. Curious, she followed it and soon came upon a beautiful, sparkling lake. At the edge of the lake, Ella saw a swan with golden feathers. The swan spoke to her in a gentle voice, \"Hello, Ella. I am Luna, the enchanted swan. I need your help.\" Ella was amazed and asked, \"How can I help you?\" Luna explained that an evil sorcerer had cursed her, trapping her in this form. To break the curse, Ella needed to find a magical flower that bloomed only once every hundred years on a distant mountain. Determined, Ella set off on her journey. She faced many challenges: crossing a deep ravine, climbing steep cliffs, and navigating through a dark, eerie forest. Along the way, she met a wise old owl and a playful squirrel who guided her. Finally, after a long and arduous journey, Ella found the magical flower. She returned to the lake and presented it to Luna. The curse was broken, and Luna transformed back into a princess. Grateful, Luna thanked Ella and they became lifelong friends. Ella returned home, her heart filled with joy and adventure.'\n",
    "\n",
    "\n",
    "def panaikinti_simbolius(sarasas):\n",
    "    lt_be_zenklu = []\n",
    "    for zodis in sarasas.split():\n",
    "        zodis_be_zenklu = ''\n",
    "        for simbolis in zodis:\n",
    "            if simbolis in punctuation:\n",
    "                continue\n",
    "            else:\n",
    "                zodis_be_zenklu += simbolis\n",
    "        lt_be_zenklu.append(zodis_be_zenklu)\n",
    "    return lt_be_zenklu\n",
    "\n",
    "lt_be_zenklu = panaikinti_simbolius(lt)\n",
    "en_be_zenklu = panaikinti_simbolius(en)\n",
    "en_be_zenklu = en_be_zenklu[:174]\n",
    "\n",
    "print(len(lt_be_zenklu))\n",
    "print(len(en_be_zenklu))\n",
    "\n",
    "\n",
    "data = lt_be_zenklu + en_be_zenklu\n",
    "\n",
    "labels = ['lt'] * len(lt_be_zenklu) + ['en'] * len(en_be_zenklu)\n",
    "\n",
    "X_train, X_test, y_train, y_test = train_test_split(data, labels)\n",
    "\n",
    "vectorizer = TfidfVectorizer()\n",
    "multimonia = MultinomialNB()\n",
    "\n",
    "model = make_pipeline(vectorizer, multimonia)\n",
    "# model.fit(X_train, y_train)\n",
    "\n",
    "# y_pred = model.predict(X_test)\n",
    "# print(classification_report(y_test, y_pred))\n",
    "# accuracy = accuracy_score(y_pred, y_test)\n",
    "# print(accuracy)\n",
    "\n",
    "model.fit(data, labels)\n",
    "\n",
    "x_spejimui = ['magiškas', 'širdį', 'magišką', 'lietus', 'miškuose']\n",
    "y_pred = model.predict(x_spejimui)\n",
    "y_test = ['lt', 'lt', 'lt', 'lt', 'lt']\n",
    "\n",
    "accuracy = accuracy_score(y_pred, y_test)\n",
    "print(accuracy)\n",
    "              "
   ]
  }
 ],
 "metadata": {
  "kernelspec": {
   "display_name": "mokymai",
   "language": "python",
   "name": "python3"
  },
  "language_info": {
   "codemirror_mode": {
    "name": "ipython",
    "version": 3
   },
   "file_extension": ".py",
   "mimetype": "text/x-python",
   "name": "python",
   "nbconvert_exporter": "python",
   "pygments_lexer": "ipython3",
   "version": "3.12.3"
  }
 },
 "nbformat": 4,
 "nbformat_minor": 2
}
