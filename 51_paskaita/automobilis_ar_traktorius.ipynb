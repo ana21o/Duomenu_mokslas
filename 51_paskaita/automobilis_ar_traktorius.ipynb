{
 "cells": [
  {
   "cell_type": "code",
   "execution_count": 5,
   "metadata": {},
   "outputs": [
    {
     "name": "stdout",
     "output_type": "stream",
     "text": [
      "Found 6279 images belonging to 3 classes.\n",
      "Found 2692 images belonging to 3 classes.\n"
     ]
    }
   ],
   "source": [
    "from tensorflow.keras.preprocessing.image import ImageDataGenerator\n",
    "\n",
    "train_dir = 'autoplius/train'\n",
    "validation_dir = 'autoplius/test'\n",
    "\n",
    "train_datagen = ImageDataGenerator(\n",
    "    rescale=1./255,\n",
    "    rotation_range=20,\n",
    "    width_shift_range=0.2,\n",
    "    height_shift_range=0.2,\n",
    "    shear_range=0.2,\n",
    "    zoom_range=0.2,\n",
    "    horizontal_flip=True,\n",
    "    fill_mode='nearest'\n",
    ")\n",
    "\n",
    "validation_datagen = ImageDataGenerator(rescale=1./255)\n",
    "\n",
    "train_generator = train_datagen.flow_from_directory(\n",
    "    train_dir,\n",
    "    target_size=(150,150),\n",
    "    batch_size=20,\n",
    "    class_mode='categorical'\n",
    ")\n",
    "\n",
    "validation_generator = validation_datagen.flow_from_directory(\n",
    "    validation_dir,\n",
    "    target_size=(150,150),\n",
    "    batch_size=20,\n",
    "    class_mode='categorical'\n",
    ")"
   ]
  },
  {
   "cell_type": "code",
   "execution_count": 6,
   "metadata": {},
   "outputs": [],
   "source": [
    "from tensorflow.keras import datasets, layers, models\n",
    "\n",
    "\n",
    "model = models.Sequential([\n",
    "    layers.Conv2D(32, (3,3), activation='relu', input_shape=(150,150,3)), #nurodom filtrus ir ju dydziu dimensija\n",
    "    layers.MaxPooling2D(2,2), #sumazinam dimensijas, islaikant svarbiausias savybes\n",
    "    layers.Conv2D(64, (3,3),  activation='relu'), # antras konvoliucinis sluoksnis\n",
    "    layers.MaxPooling2D(2,2), #sumazinam dimensijas, islaikant svarbiausias savybes\n",
    "    layers.Conv2D(128, (3,3),  activation='relu'),\n",
    "    layers.MaxPooling2D(2,2),\n",
    "    layers.Flatten(), # plokstinam duomenis, paversdami is 3d i 1d\n",
    "    layers.Dense(512, activation='relu'),\n",
    "    layers.Dropout(0.5),\n",
    "    layers.Dense(3, activation='sigmoid') # isejimo sluoksnis su vienu neuronu, grazinis tikimybe nuo 0 iki 1\n",
    "])"
   ]
  },
  {
   "cell_type": "code",
   "execution_count": 7,
   "metadata": {},
   "outputs": [],
   "source": [
    "from tensorflow.keras.optimizers import Adam\n",
    "model.compile(\n",
    "    optimizer=Adam(learning_rate=1e-4),\n",
    "    loss='categorical_crossentropy',\n",
    "    metrics=['accuracy']\n",
    ")"
   ]
  },
  {
   "cell_type": "code",
   "execution_count": 8,
   "metadata": {},
   "outputs": [
    {
     "name": "stdout",
     "output_type": "stream",
     "text": [
      "Epoch 1/30\n"
     ]
    },
    {
     "name": "stderr",
     "output_type": "stream",
     "text": [
      "c:\\Users\\ostap\\Desktop\\Mokymai\\Duomenu_mokslas\\mokymai\\Lib\\site-packages\\keras\\src\\trainers\\data_adapters\\py_dataset_adapter.py:121: UserWarning: Your `PyDataset` class should call `super().__init__(**kwargs)` in its constructor. `**kwargs` can include `workers`, `use_multiprocessing`, `max_queue_size`. Do not pass these arguments to `fit()`, as they will be ignored.\n",
      "  self._warn_if_super_not_called()\n"
     ]
    },
    {
     "name": "stdout",
     "output_type": "stream",
     "text": [
      "\u001b[1m313/313\u001b[0m \u001b[32m━━━━━━━━━━━━━━━━━━━━\u001b[0m\u001b[37m\u001b[0m \u001b[1m162s\u001b[0m 510ms/step - accuracy: 0.7532 - loss: 0.6469 - val_accuracy: 0.8687 - val_loss: 0.3756\n",
      "Epoch 2/30\n",
      "\u001b[1m313/313\u001b[0m \u001b[32m━━━━━━━━━━━━━━━━━━━━\u001b[0m\u001b[37m\u001b[0m \u001b[1m0s\u001b[0m 312us/step - accuracy: 0.7500 - loss: 0.4207 - val_accuracy: 0.8333 - val_loss: 0.5143\n",
      "Epoch 3/30\n"
     ]
    },
    {
     "name": "stderr",
     "output_type": "stream",
     "text": [
      "C:\\Program Files\\WindowsApps\\PythonSoftwareFoundation.Python.3.12_3.12.1008.0_x64__qbz5n2kfra8p0\\Lib\\contextlib.py:158: UserWarning: Your input ran out of data; interrupting training. Make sure that your dataset or generator can generate at least `steps_per_epoch * epochs` batches. You may need to use the `.repeat()` function when building your dataset.\n",
      "  self.gen.throw(value)\n"
     ]
    },
    {
     "name": "stdout",
     "output_type": "stream",
     "text": [
      "\u001b[1m313/313\u001b[0m \u001b[32m━━━━━━━━━━━━━━━━━━━━\u001b[0m\u001b[37m\u001b[0m \u001b[1m107s\u001b[0m 339ms/step - accuracy: 0.8219 - loss: 0.4574 - val_accuracy: 0.8836 - val_loss: 0.3283\n",
      "Epoch 4/30\n",
      "\u001b[1m313/313\u001b[0m \u001b[32m━━━━━━━━━━━━━━━━━━━━\u001b[0m\u001b[37m\u001b[0m \u001b[1m0s\u001b[0m 89us/step - accuracy: 0.7000 - loss: 0.9345 - val_accuracy: 1.0000 - val_loss: 0.1197\n",
      "Epoch 5/30\n",
      "\u001b[1m313/313\u001b[0m \u001b[32m━━━━━━━━━━━━━━━━━━━━\u001b[0m\u001b[37m\u001b[0m \u001b[1m104s\u001b[0m 330ms/step - accuracy: 0.8455 - loss: 0.4004 - val_accuracy: 0.8754 - val_loss: 0.3341\n",
      "Epoch 6/30\n",
      "\u001b[1m313/313\u001b[0m \u001b[32m━━━━━━━━━━━━━━━━━━━━\u001b[0m\u001b[37m\u001b[0m \u001b[1m0s\u001b[0m 115us/step - accuracy: 0.9000 - loss: 0.3085 - val_accuracy: 0.9167 - val_loss: 0.1845\n",
      "Epoch 7/30\n",
      "\u001b[1m313/313\u001b[0m \u001b[32m━━━━━━━━━━━━━━━━━━━━\u001b[0m\u001b[37m\u001b[0m \u001b[1m111s\u001b[0m 351ms/step - accuracy: 0.8606 - loss: 0.3807 - val_accuracy: 0.8832 - val_loss: 0.3061\n",
      "Epoch 8/30\n",
      "\u001b[1m313/313\u001b[0m \u001b[32m━━━━━━━━━━━━━━━━━━━━\u001b[0m\u001b[37m\u001b[0m \u001b[1m0s\u001b[0m 150us/step - accuracy: 0.8000 - loss: 0.4636 - val_accuracy: 0.9167 - val_loss: 0.3119\n",
      "Epoch 9/30\n",
      "\u001b[1m313/313\u001b[0m \u001b[32m━━━━━━━━━━━━━━━━━━━━\u001b[0m\u001b[37m\u001b[0m \u001b[1m112s\u001b[0m 355ms/step - accuracy: 0.8836 - loss: 0.3402 - val_accuracy: 0.8022 - val_loss: 0.4827\n",
      "Epoch 10/30\n",
      "\u001b[1m313/313\u001b[0m \u001b[32m━━━━━━━━━━━━━━━━━━━━\u001b[0m\u001b[37m\u001b[0m \u001b[1m0s\u001b[0m 111us/step - accuracy: 0.9000 - loss: 0.2386 - val_accuracy: 1.0000 - val_loss: 0.1725\n",
      "Epoch 11/30\n",
      "\u001b[1m313/313\u001b[0m \u001b[32m━━━━━━━━━━━━━━━━━━━━\u001b[0m\u001b[37m\u001b[0m \u001b[1m111s\u001b[0m 353ms/step - accuracy: 0.8844 - loss: 0.3173 - val_accuracy: 0.9078 - val_loss: 0.2608\n",
      "Epoch 12/30\n",
      "\u001b[1m313/313\u001b[0m \u001b[32m━━━━━━━━━━━━━━━━━━━━\u001b[0m\u001b[37m\u001b[0m \u001b[1m0s\u001b[0m 124us/step - accuracy: 0.9500 - loss: 0.1691 - val_accuracy: 0.8333 - val_loss: 0.4790\n",
      "Epoch 13/30\n",
      "\u001b[1m313/313\u001b[0m \u001b[32m━━━━━━━━━━━━━━━━━━━━\u001b[0m\u001b[37m\u001b[0m \u001b[1m111s\u001b[0m 352ms/step - accuracy: 0.8934 - loss: 0.2870 - val_accuracy: 0.8575 - val_loss: 0.3898\n",
      "Epoch 14/30\n",
      "\u001b[1m313/313\u001b[0m \u001b[32m━━━━━━━━━━━━━━━━━━━━\u001b[0m\u001b[37m\u001b[0m \u001b[1m0s\u001b[0m 114us/step - accuracy: 0.8000 - loss: 0.3544 - val_accuracy: 0.9167 - val_loss: 0.2820\n",
      "Epoch 15/30\n",
      "\u001b[1m313/313\u001b[0m \u001b[32m━━━━━━━━━━━━━━━━━━━━\u001b[0m\u001b[37m\u001b[0m \u001b[1m111s\u001b[0m 351ms/step - accuracy: 0.8992 - loss: 0.2832 - val_accuracy: 0.8840 - val_loss: 0.3023\n",
      "Epoch 16/30\n",
      "\u001b[1m313/313\u001b[0m \u001b[32m━━━━━━━━━━━━━━━━━━━━\u001b[0m\u001b[37m\u001b[0m \u001b[1m0s\u001b[0m 102us/step - accuracy: 0.8000 - loss: 0.3193 - val_accuracy: 0.8333 - val_loss: 0.3501\n",
      "Epoch 17/30\n",
      "\u001b[1m313/313\u001b[0m \u001b[32m━━━━━━━━━━━━━━━━━━━━\u001b[0m\u001b[37m\u001b[0m \u001b[1m111s\u001b[0m 353ms/step - accuracy: 0.9004 - loss: 0.2750 - val_accuracy: 0.9228 - val_loss: 0.2155\n",
      "Epoch 18/30\n",
      "\u001b[1m313/313\u001b[0m \u001b[32m━━━━━━━━━━━━━━━━━━━━\u001b[0m\u001b[37m\u001b[0m \u001b[1m0s\u001b[0m 110us/step - accuracy: 0.8500 - loss: 0.3782 - val_accuracy: 0.9167 - val_loss: 0.1347\n",
      "Epoch 19/30\n",
      "\u001b[1m313/313\u001b[0m \u001b[32m━━━━━━━━━━━━━━━━━━━━\u001b[0m\u001b[37m\u001b[0m \u001b[1m111s\u001b[0m 351ms/step - accuracy: 0.9059 - loss: 0.2710 - val_accuracy: 0.9280 - val_loss: 0.2058\n",
      "Epoch 20/30\n",
      "\u001b[1m313/313\u001b[0m \u001b[32m━━━━━━━━━━━━━━━━━━━━\u001b[0m\u001b[37m\u001b[0m \u001b[1m0s\u001b[0m 108us/step - accuracy: 1.0000 - loss: 0.0801 - val_accuracy: 0.8333 - val_loss: 0.2918\n",
      "Epoch 21/30\n",
      "\u001b[1m313/313\u001b[0m \u001b[32m━━━━━━━━━━━━━━━━━━━━\u001b[0m\u001b[37m\u001b[0m \u001b[1m111s\u001b[0m 351ms/step - accuracy: 0.9046 - loss: 0.2579 - val_accuracy: 0.9205 - val_loss: 0.2280\n",
      "Epoch 22/30\n",
      "\u001b[1m313/313\u001b[0m \u001b[32m━━━━━━━━━━━━━━━━━━━━\u001b[0m\u001b[37m\u001b[0m \u001b[1m0s\u001b[0m 126us/step - accuracy: 0.9500 - loss: 0.1218 - val_accuracy: 0.8333 - val_loss: 0.1884\n",
      "Epoch 23/30\n",
      "\u001b[1m313/313\u001b[0m \u001b[32m━━━━━━━━━━━━━━━━━━━━\u001b[0m\u001b[37m\u001b[0m \u001b[1m111s\u001b[0m 351ms/step - accuracy: 0.9146 - loss: 0.2278 - val_accuracy: 0.9280 - val_loss: 0.2048\n",
      "Epoch 24/30\n",
      "\u001b[1m313/313\u001b[0m \u001b[32m━━━━━━━━━━━━━━━━━━━━\u001b[0m\u001b[37m\u001b[0m \u001b[1m0s\u001b[0m 137us/step - accuracy: 1.0000 - loss: 0.1180 - val_accuracy: 1.0000 - val_loss: 0.1408\n",
      "Epoch 25/30\n",
      "\u001b[1m313/313\u001b[0m \u001b[32m━━━━━━━━━━━━━━━━━━━━\u001b[0m\u001b[37m\u001b[0m \u001b[1m111s\u001b[0m 350ms/step - accuracy: 0.9099 - loss: 0.2385 - val_accuracy: 0.9313 - val_loss: 0.1787\n",
      "Epoch 26/30\n",
      "\u001b[1m313/313\u001b[0m \u001b[32m━━━━━━━━━━━━━━━━━━━━\u001b[0m\u001b[37m\u001b[0m \u001b[1m0s\u001b[0m 112us/step - accuracy: 0.9500 - loss: 0.1861 - val_accuracy: 0.7500 - val_loss: 0.4470\n",
      "Epoch 27/30\n",
      "\u001b[1m313/313\u001b[0m \u001b[32m━━━━━━━━━━━━━━━━━━━━\u001b[0m\u001b[37m\u001b[0m \u001b[1m111s\u001b[0m 351ms/step - accuracy: 0.9190 - loss: 0.2186 - val_accuracy: 0.9410 - val_loss: 0.1443\n",
      "Epoch 28/30\n",
      "\u001b[1m313/313\u001b[0m \u001b[32m━━━━━━━━━━━━━━━━━━━━\u001b[0m\u001b[37m\u001b[0m \u001b[1m0s\u001b[0m 117us/step - accuracy: 0.9000 - loss: 0.3507 - val_accuracy: 0.9167 - val_loss: 0.3213\n",
      "Epoch 29/30\n",
      "\u001b[1m313/313\u001b[0m \u001b[32m━━━━━━━━━━━━━━━━━━━━\u001b[0m\u001b[37m\u001b[0m \u001b[1m111s\u001b[0m 351ms/step - accuracy: 0.9280 - loss: 0.2011 - val_accuracy: 0.9306 - val_loss: 0.2161\n",
      "Epoch 30/30\n",
      "\u001b[1m313/313\u001b[0m \u001b[32m━━━━━━━━━━━━━━━━━━━━\u001b[0m\u001b[37m\u001b[0m \u001b[1m0s\u001b[0m 135us/step - accuracy: 0.9000 - loss: 0.2322 - val_accuracy: 1.0000 - val_loss: 0.0031\n"
     ]
    }
   ],
   "source": [
    "history=model.fit(\n",
    "    train_generator,\n",
    "    steps_per_epoch=train_generator.samples // train_generator.batch_size,\n",
    "    epochs=30,\n",
    "    validation_data=validation_generator,\n",
    "    validation_steps=validation_generator.samples // validation_generator.batch_size)"
   ]
  },
  {
   "cell_type": "code",
   "execution_count": null,
   "metadata": {},
   "outputs": [],
   "source": []
  }
 ],
 "metadata": {
  "kernelspec": {
   "display_name": "mokymai",
   "language": "python",
   "name": "python3"
  },
  "language_info": {
   "codemirror_mode": {
    "name": "ipython",
    "version": 3
   },
   "file_extension": ".py",
   "mimetype": "text/x-python",
   "name": "python",
   "nbconvert_exporter": "python",
   "pygments_lexer": "ipython3",
   "version": "3.12.3"
  }
 },
 "nbformat": 4,
 "nbformat_minor": 2
}
