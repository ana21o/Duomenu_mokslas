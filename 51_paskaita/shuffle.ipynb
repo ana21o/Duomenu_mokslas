{
 "cells": [
  {
   "cell_type": "code",
   "execution_count": 1,
   "metadata": {},
   "outputs": [],
   "source": [
    "import os\n",
    "import random \n",
    "import shutil\n",
    "\n",
    "folder_dir = 'autoplius' # nurodom kataloga, kuriame yra nuscrapinti duomenys\n",
    "split_size = (0.7, 0.3) # kokia dalis mokymui ir kokia validacijai\n",
    "\n",
    "train_dir = os.path.join(folder_dir, 'train') # sukuriame nuoroda, kuriame bus laikomi kiti katalogai, pagal jusu turimas kategorijas\n",
    "test_dir = os.path.join(folder_dir, 'test') # sukuriame nuoroda, kuriame bus laikomi kiti katalogai, pagal jusu turimas kategorijas\n",
    "\n",
    "shutil.rmtree(train_dir, ignore_errors=True) # sunaikiname anksciau egzistavusi train kataloga ir jo viduje buvusius failus ir katalogus\n",
    "shutil.rmtree(test_dir, ignore_errors=True) # sunaikiname anksciau egzistavusi test kataloga ir jo viduje buvusius failus ir katalogus\n",
    "\n",
    "for root, folder, img in os.walk(folder_dir): # atsako kokius katalogus (kategorijas) jus turite po scrapinimo\n",
    "    folders = folder\n",
    "    break # nutraukiame po pirmo ciklo, nes nenorime matyti subkatalogu viduje esanciu folderiu\n",
    "\n",
    "os.makedirs(train_dir) # sukuriame train kataloga is naujo, nes ji istryneme ankstesniame zingsnyje\n",
    "os.makedirs(test_dir) # sukuriame test kataloga is naujo, nes ji istryneme ankstesniame zingsnyje\n",
    "\n",
    "for folder in folders: # su visais katalogais (automobiliai, motociklai, traktoriai) kartojame siuos zingsnius:\n",
    "    files = os.listdir(os.path.join(folder_dir, folder))   # suzinome visas nuotraukas, kurios yra katalogo viduje (pvz. katalogo automobiliai viduje)\n",
    "    random.shuffle(files) # ismaisome nuotrauku eiliskuma, jog paleidus pakartotinai atsirastu kitos nuotraukos\n",
    "    train_size = int(len(files) * split_size[0]) # apskaiciuojame kokia dalis tenka mokymuisi\n",
    "    test_size = int(len(files) * split_size[1]) # apskaiciuojame kokia dalis tenka validacijai\n",
    "    train_folder_path = os.path.join(train_dir, folder) # sukuriame kelia iki training katalogo\n",
    "    test_folder_path = os.path.join(test_dir, folder) # sukuriame kelia iki test katalogo\n",
    "    os.makedirs(train_folder_path) # sukuriame kataloga pagal ankstesniame zingsnyje sukurta kelia\n",
    "    os.makedirs(test_folder_path) # sukuriame kataloga pagal ankstesniame zingsnyje sukurta kelia\n",
    "\n",
    "\n",
    "    for i, img in enumerate(files): # kataloge (pvz automobiliai) kartojame siuos zingsnius\n",
    "        if i < train_size: # tikriname ar kataloge train dar nera reikiamos dalies duomenu (70 proc)\n",
    "            \n",
    "            shutil.copy(os.path.join(folder_dir, folder, img), os.path.join(train_folder_path, img)) #perkeliame nuotrauka nurodydami is kur paimti ir kur padeti\n",
    "        else:\n",
    "            shutil.copy(os.path.join(folder_dir, folder, img), os.path.join(test_folder_path, img)) #perkeliame nuotrauka nurodydami is kur paimti ir kur padeti\n",
    "\n",
    "\n"
   ]
  }
 ],
 "metadata": {
  "kernelspec": {
   "display_name": "mokymai",
   "language": "python",
   "name": "python3"
  },
  "language_info": {
   "codemirror_mode": {
    "name": "ipython",
    "version": 3
   },
   "file_extension": ".py",
   "mimetype": "text/x-python",
   "name": "python",
   "nbconvert_exporter": "python",
   "pygments_lexer": "ipython3",
   "version": "3.12.3"
  }
 },
 "nbformat": 4,
 "nbformat_minor": 2
}
