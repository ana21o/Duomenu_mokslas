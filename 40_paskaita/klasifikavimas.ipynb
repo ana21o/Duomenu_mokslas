{
 "cells": [
  {
   "cell_type": "code",
   "execution_count": 1,
   "metadata": {},
   "outputs": [],
   "source": [
    "from sklearn.datasets import load_iris\n",
    "from sklearn.model_selection import train_test_split\n",
    "from sklearn.ensemble import RandomForestClassifier\n",
    "from sklearn.metrics import accuracy_score"
   ]
  },
  {
   "cell_type": "code",
   "execution_count": 17,
   "metadata": {},
   "outputs": [
    {
     "name": "stdout",
     "output_type": "stream",
     "text": [
      "[1 1 1 2 2 2 0 2 0 2 1 0 1 2 0 0 2 0 1 1 0 1 2 2 2 1 2 2 0 0 1 0 0 2 1 1 1\n",
      " 2]\n",
      "[1 1 1 2 2 2 0 2 0 2 1 0 2 2 0 0 2 0 1 1 0 1 1 2 2 1 2 2 0 0 1 0 0 2 1 1 1\n",
      " 2]\n",
      "0.9473684210526315\n"
     ]
    }
   ],
   "source": [
    "iris = load_iris()\n",
    "\n",
    "X = iris.data\n",
    "# print(X)\n",
    "Y = iris.target\n",
    "# print(Y)\n",
    "\n",
    "# print(iris.target_names)\n",
    "\n",
    "X_train, X_test, y_train, y_test = train_test_split(X, Y)\n",
    "\n",
    "# print(len(y_train))\n",
    "# print(len(y_test))\n",
    "\n",
    "model = RandomForestClassifier()\n",
    "model.fit(X_train, y_train)\n",
    "\n",
    "y_pred = model.predict(X_test)\n",
    "print(y_test)\n",
    "print(y_pred)\n",
    "accuracy = accuracy_score(y_test, y_pred)\n",
    "\n",
    "print(accuracy)\n"
   ]
  },
  {
   "cell_type": "code",
   "execution_count": 23,
   "metadata": {},
   "outputs": [
    {
     "name": "stdout",
     "output_type": "stream",
     "text": [
      "[0 0 0 0 0 0 0 0 0 0 0 0 0 0 0 0 0 0 0 0 0 0 0 0 0 0 0 0 0 0 0 0 0 0 0 0 0\n",
      " 0 0 0 0 0 0 0 0 0 0 0 0 0 1 1 1 1 1 1 1 1 1 1 1 1 1 1 1 1 1 1 1 1 1 1 1 1\n",
      " 1]\n",
      "1.0\n"
     ]
    }
   ],
   "source": [
    "iris = load_iris()\n",
    "\n",
    "X_iki = iris.data[:75]\n",
    "X_nuo = iris.data[75:]\n",
    "\n",
    "Y_iki = iris.target[:75]\n",
    "Y_nuo = iris.target[75:]\n",
    "\n",
    "model = RandomForestClassifier()\n",
    "model.fit(iris.data, iris.target)\n",
    "\n",
    "\n",
    "\n",
    "y_pred = model.predict(X_nuo)\n",
    "# print(y_pred)\n",
    "\n",
    "print(Y_iki)\n",
    "accuracy = accuracy_score(Y_nuo, y_pred)\n",
    "print(accuracy)"
   ]
  },
  {
   "cell_type": "code",
   "execution_count": 28,
   "metadata": {},
   "outputs": [
    {
     "name": "stdout",
     "output_type": "stream",
     "text": [
      "[0 0 0 0 0 0 0 0 0 0 1 1 1 2 2 2 2 2 2 2]\n",
      "1.0\n"
     ]
    }
   ],
   "source": [
    "import numpy as np\n",
    "X_chatgpt = np.array([[5.1, 3.5, 1.4, 0.2],\n",
    " [4.9, 3.0, 1.4, 0.2],\n",
    " [4.7, 3.2, 1.3, 0.2],\n",
    " [4.6, 3.1, 1.5, 0.2],\n",
    " [5.0, 3.6, 1.4, 0.2],\n",
    " [5.4, 3.9, 1.7, 0.4],\n",
    " [4.6, 3.4, 1.4, 0.3],\n",
    " [5.0, 3.4, 1.5, 0.2],\n",
    " [4.4, 2.9, 1.4, 0.2],\n",
    " [4.9, 3.1, 1.5, 0.1],\n",
    " [6.2, 2.9, 4.3, 1.3],\n",
    " [5.1, 2.5, 3.0, 1.1],\n",
    " [5.7, 2.8, 4.1, 1.3],\n",
    " [6.3, 3.3, 6.0, 2.5],\n",
    " [6.4, 3.2, 5.3, 2.3],\n",
    " [6.3, 2.9, 5.6, 1.8],\n",
    " [6.2, 2.8, 4.8, 1.8],\n",
    " [6.1, 3.0, 4.9, 1.8],\n",
    " [6.4, 2.8, 5.6, 2.1],\n",
    " [6.5, 3.0, 5.8, 2.2]])\n",
    "\n",
    "Y_chatgpt = [0, 0, 0, 0, 0, 0, 0, 0, 0, 0, 1, 1, 1, 2, 2, 2, 2, 2, 2, 2]\n",
    "\n",
    "iris = load_iris()\n",
    "\n",
    "\n",
    "X = iris.data\n",
    "Y = iris.target\n",
    "\n",
    "X_train, X_test, y_train, y_test = train_test_split(X, Y)\n",
    "\n",
    "model = RandomForestClassifier()\n",
    "model.fit(X_train, y_train)\n",
    "\n",
    "y_pred = model.predict(X_chatgpt)\n",
    "print(y_pred)\n",
    "\n",
    "accuracy = accuracy_score(y_pred, Y_chatgpt)\n",
    "print(accuracy)"
   ]
  },
  {
   "cell_type": "code",
   "execution_count": 59,
   "metadata": {},
   "outputs": [
    {
     "name": "stdout",
     "output_type": "stream",
     "text": [
      "[[20, 5000], [30, 15000]] [[15, 2000]]\n",
      "[1, 2] [0]\n"
     ]
    }
   ],
   "source": [
    "from sklearn.datasets import load_wine\n",
    "\n",
    "wine = load_wine()\n",
    "X = wine.data\n",
    "Y = wine.target\n",
    "# print(len(X))\n",
    "# print(Y)\n",
    "# print(wine.target_names)\n",
    "# print(wine.feature_names)\n",
    "\n",
    "\n",
    "\n",
    "# X_train, X_test, Y_train, Y_test, trecias_train, trecias_test = train_test_split(X, Y, test_size=0.1, random_state=42)\n",
    "\n",
    "# trecias = [1,2,3,4,5,6,7,8,9,10]\n",
    "# trecias_kategorijos = []\n",
    "\n",
    "trecias = [[15, 2000], [20, 5000], [30,15000]]\n",
    "trecias_kategorijos = [0, 1, 2]\n",
    "\n",
    "import random\n",
    "def pasirinkti_random(sarasas, sarasas_kategorijos, kokia_dalis_train_sarase):\n",
    "    rezultato_sarasas_1 = []\n",
    "    rezultato_sarasas_2 = []\n",
    "    sarasas_kategorijos_1 = []\n",
    "    sarasas_kategorijos_2 = []\n",
    "    while len(rezultato_sarasas_1) != kokia_dalis_train_sarase:\n",
    "        pasirinkimas = random.randint(1, len(sarasas)-1)\n",
    "        rezultato_sarasas_1.append(sarasas[pasirinkimas])\n",
    "        sarasas_kategorijos_1.append(sarasas_kategorijos[pasirinkimas])\n",
    "        sarasas.pop(pasirinkimas)\n",
    "        sarasas_kategorijos.pop(pasirinkimas)\n",
    "    rezultato_sarasas_2 = sarasas\n",
    "    sarasas_kategorijos_2 = sarasas_kategorijos\n",
    "    return [rezultato_sarasas_1, rezultato_sarasas_2, sarasas_kategorijos_1, sarasas_kategorijos_2]\n",
    "\n",
    "x_mokymui, x_testui, y_mokymui, y_testui = pasirinkti_random(trecias, trecias_kategorijos, 2)\n",
    "print(x_mokymui, x_testui)\n",
    "print(y_mokymui, y_testui)\n",
    "\n",
    "\n",
    "# print(len(X_train))\n",
    "# model = RandomForestClassifier()\n",
    "# model.fit(X_train, Y_train)\n",
    "\n",
    "# y_pred = model.predict(X_test)\n",
    "# accuracy = accuracy_score(y_pred, Y_test)\n",
    "# print(accuracy)"
   ]
  },
  {
   "cell_type": "code",
   "execution_count": 75,
   "metadata": {},
   "outputs": [
    {
     "name": "stdout",
     "output_type": "stream",
     "text": [
      "0.9649122807017544\n"
     ]
    }
   ],
   "source": [
    "from sklearn.datasets import load_breast_cancer\n",
    "\n",
    "b_cancer = load_breast_cancer()\n",
    "\n",
    "X = b_cancer.data\n",
    "Y = b_cancer.target\n",
    "\n",
    "X_train, X_test, Y_train, Y_test = train_test_split(X, Y, test_size=0.5, random_state=42)\n",
    "\n",
    "model = RandomForestClassifier()\n",
    "model.fit(X_train, Y_train)\n",
    "\n",
    "y_pred = model.predict(X_test)\n",
    "accuracy = accuracy_score(y_pred, Y_test)\n",
    "print(accuracy)"
   ]
  },
  {
   "cell_type": "code",
   "execution_count": 90,
   "metadata": {},
   "outputs": [
    {
     "name": "stdout",
     "output_type": "stream",
     "text": [
      "1.0\n"
     ]
    }
   ],
   "source": [
    "import pandas as pd \n",
    "\n",
    "df = pd.read_csv('divorce.csv', sep=';')\n",
    "df\n",
    "\n",
    "Y = df['Class']\n",
    "X = df.drop('Class', axis=1)\n",
    "\n",
    "\n",
    "X_train, X_test, Y_train, Y_test = train_test_split(X, Y, test_size=0.1, random_state=42)\n",
    "\n",
    "model = RandomForestClassifier()\n",
    "model.fit(X_train, Y_train)\n",
    "\n",
    "y_pred = model.predict(X_test)\n",
    "accuracy = accuracy_score(y_pred, Y_test)\n",
    "print(accuracy)"
   ]
  },
  {
   "cell_type": "code",
   "execution_count": 94,
   "metadata": {},
   "outputs": [
    {
     "name": "stdout",
     "output_type": "stream",
     "text": [
      "0.9411764705882353\n"
     ]
    }
   ],
   "source": [
    "from sklearn.tree import DecisionTreeClassifier\n",
    "import pandas as pd \n",
    "\n",
    "df = pd.read_csv('divorce.csv', sep=';')\n",
    "df\n",
    "\n",
    "Y = df['Class']\n",
    "X = df.drop('Class', axis=1)\n",
    "\n",
    "\n",
    "X_train, X_test, Y_train, Y_test = train_test_split(X, Y, test_size=0.1)\n",
    "\n",
    "model = DecisionTreeClassifier()\n",
    "model.fit(X_train, Y_train)\n",
    "\n",
    "y_pred = model.predict(X_test)\n",
    "accuracy = accuracy_score(y_pred, Y_test)\n",
    "print(accuracy)"
   ]
  },
  {
   "cell_type": "code",
   "execution_count": 111,
   "metadata": {},
   "outputs": [
    {
     "data": {
      "image/png": "[encoded data removed]",
      "text/plain": [
       "<Figure size 640x480 with 1 Axes>"
      ]
     },
     "metadata": {},
     "output_type": "display_data"
    },
    {
     "name": "stdout",
     "output_type": "stream",
     "text": [
      "0.9333333333333333\n"
     ]
    }
   ],
   "source": [
    "from sklearn.cluster import KMeans\n",
    "import matplotlib.pyplot as plt\n",
    "iris = load_iris()\n",
    "X = iris.data\n",
    "# y = iris.target\n",
    "\n",
    "kmeans = KMeans(n_clusters=4, random_state=42)\n",
    "clusters = kmeans.fit_predict(X)\n",
    "\n",
    "plt.scatter(X[:,0], X[:,1], X[:,2], c=clusters)\n",
    "plt.show()\n",
    "\n",
    "X_train, X_test, clusters_train, clusters_test = train_test_split(X, clusters, test_size=0.2, random_state=42)\n",
    "\n",
    "model = RandomForestClassifier()\n",
    "model.fit(X_train, clusters_train)\n",
    "\n",
    "y_pred = model.predict(X_test)\n",
    "accuracy = accuracy_score(y_pred, clusters_test)\n",
    "print(accuracy)\n",
    "\n",
    "\n",
    "# X_train, X_test, clusters_train, clusters_test = train_test_split(X, y, test_size=0.2, random_state=42)\n",
    "\n",
    "# model = RandomForestClassifier()\n",
    "# model.fit(X_train, clusters_train)\n",
    "\n",
    "# y_pred = model.predict(X_test)\n",
    "# accuracy = accuracy_score(y_pred, clusters_test)\n",
    "# print(accuracy)"
   ]
  },
  {
   "cell_type": "code",
   "execution_count": null,
   "metadata": {},
   "outputs": [],
   "source": []
  }
 ],
 "metadata": {
  "kernelspec": {
   "display_name": "mokymai",
   "language": "python",
   "name": "python3"
  },
  "language_info": {
   "codemirror_mode": {
    "name": "ipython",
    "version": 3
   },
   "file_extension": ".py",
   "mimetype": "text/x-python",
   "name": "python",
   "nbconvert_exporter": "python",
   "pygments_lexer": "ipython3",
   "version": "3.12.3"
  }
 },
 "nbformat": 4,
 "nbformat_minor": 2
}
