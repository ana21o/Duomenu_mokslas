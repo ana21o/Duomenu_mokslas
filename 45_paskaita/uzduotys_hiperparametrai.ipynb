{
 "cells": [
  {
   "cell_type": "markdown",
   "metadata": {},
   "source": [
    "## 1 Užduotis\n",
    "\n",
    "Panaudokite Grid Search, Random Search ir Bayes optimizavimą vienam iš savo anksčiau naudotų datasetų, jog surastumėte didžiausią tikslumą ir geriausius hiperparametrus"
   ]
  },
  {
   "cell_type": "code",
   "execution_count": 7,
   "metadata": {},
   "outputs": [],
   "source": [
    "import pandas as pd \n",
    "from sklearn.model_selection import train_test_split\n",
    "from sklearn.linear_model import LogisticRegression\n",
    "from sklearn.model_selection import GridSearchCV, RandomizedSearchCV\n",
    "from sklearn.ensemble  import RandomForestClassifier\n",
    "from sklearn.metrics import accuracy_score\n",
    "from sklearn.preprocessing import StandardScaler\n",
    "import numpy as np\n",
    "\n"
   ]
  },
  {
   "cell_type": "code",
   "execution_count": 17,
   "metadata": {},
   "outputs": [
    {
     "name": "stdout",
     "output_type": "stream",
     "text": [
      "Grid Search geriausi parametrai: {'C': 1, 'solver': 'liblinear'}\n",
      "Grid Search geriausias tikslumas: 0.7708245877061468\n"
     ]
    }
   ],
   "source": [
    "\n",
    "df = pd.read_csv('diabetes.csv')\n",
    "\n",
    "X = df.drop('Outcome', axis=1)\n",
    "y = df['Outcome']\n",
    "\n",
    "# Mokymo ir testavimo rinkiniai\n",
    "X_train, X_test, y_train, y_test = train_test_split(X, y)\n",
    "\n",
    "# Skalavimas duomenų\n",
    "scaler = StandardScaler()\n",
    "X_train = scaler.fit_transform(X_train)\n",
    "X_test = scaler.transform(X_test)\n",
    "\n",
    "# Logistine regresija\n",
    "model = LogisticRegression(max_iter=10000)\n",
    "\n",
    "# 1. Grid Search\n",
    "param_grid = {\n",
    "    'C': [0.01, 0.1, 1, 10, 100],\n",
    "    'solver': ['liblinear', 'saga']\n",
    "}\n",
    "\n",
    "grid_search = GridSearchCV(model, param_grid, cv=5, scoring='accuracy')\n",
    "grid_search.fit(X_train, y_train)\n",
    "\n",
    "print(f\"Grid Search geriausi parametrai: {grid_search.best_params_}\")\n",
    "print(f\"Grid Search geriausias tikslumas: {grid_search.best_score_}\")"
   ]
  },
  {
   "cell_type": "code",
   "execution_count": 18,
   "metadata": {},
   "outputs": [
    {
     "name": "stderr",
     "output_type": "stream",
     "text": [
      "c:\\Users\\ostap\\OneDrive\\Рабочий стол\\Mokymai\\Duomenu_mokslas\\mokymai\\Lib\\site-packages\\sklearn\\model_selection\\_search.py:318: UserWarning: The total space of parameters 40 is smaller than n_iter=50. Running 40 iterations. For exhaustive searches, use GridSearchCV.\n",
      "  warnings.warn(\n"
     ]
    },
    {
     "name": "stdout",
     "output_type": "stream",
     "text": [
      "Random Search geriausi parametrai: {'C': 1, 'solver': 'liblinear'}\n",
      "Random Search geriausias tikslumas: 0.7708245877061468\n"
     ]
    }
   ],
   "source": [
    "# 2. Random Search\n",
    "param_dist = {\n",
    "    'C': np.logspace(-4, 4, 20),\n",
    "    'solver': ['liblinear', 'saga']\n",
    "}\n",
    "\n",
    "random_search = RandomizedSearchCV(model, param_dist, n_iter=50, cv=5, scoring='accuracy', random_state=42)\n",
    "random_search.fit(X_train, y_train)\n",
    "\n",
    "print(f\"Random Search geriausi parametrai: {grid_search.best_params_}\")\n",
    "print(f\"Random Search geriausias tikslumas: {grid_search.best_score_}\")\n",
    "\n"
   ]
  },
  {
   "cell_type": "code",
   "execution_count": 19,
   "metadata": {},
   "outputs": [
    {
     "name": "stdout",
     "output_type": "stream",
     "text": [
      "Galutinio modelio tikslumas (Grid Search): 0.7760416666666666\n"
     ]
    }
   ],
   "source": [
    "# Modelio treniravimas su Grid Search\n",
    "best_params = grid_search.best_params_\n",
    "best_model = LogisticRegression(C=best_params['C'], solver=best_params['solver'], max_iter=10000)\n",
    "best_model.fit(X_train, y_train)\n",
    "\n",
    "# Gauti prognozes testavimo rinkinyje\n",
    "y_pred = best_model.predict(X_test)\n",
    "\n",
    "# Įvertinti modelio tikslumą\n",
    "accuracy = accuracy_score(y_test, y_pred)\n",
    "print(\"Galutinio modelio tikslumas (Grid Search):\", accuracy)\n"
   ]
  },
  {
   "cell_type": "code",
   "execution_count": 20,
   "metadata": {},
   "outputs": [
    {
     "name": "stdout",
     "output_type": "stream",
     "text": [
      "Galutinio modelio tikslumas (Random Search): 0.7708333333333334\n"
     ]
    }
   ],
   "source": [
    "# Modelio treniravimas su  Random Search\n",
    "best_params_random = random_search.best_params_\n",
    "best_model_random = LogisticRegression(C=best_params_random['C'], solver=best_params_random['solver'], max_iter=10000)\n",
    "best_model_random.fit(X_train, y_train)\n",
    "\n",
    "# Gauti prognozes testavimo rinkinyje\n",
    "y_pred_random = best_model_random.predict(X_test)\n",
    "\n",
    "# Įvertinti modelio tikslumą\n",
    "accuracy_random = accuracy_score(y_test, y_pred_random)\n",
    "print(\"Galutinio modelio tikslumas (Random Search):\", accuracy_random)"
   ]
  }
 ],
 "metadata": {
  "kernelspec": {
   "display_name": "mokymai",
   "language": "python",
   "name": "python3"
  },
  "language_info": {
   "codemirror_mode": {
    "name": "ipython",
    "version": 3
   },
   "file_extension": ".py",
   "mimetype": "text/x-python",
   "name": "python",
   "nbconvert_exporter": "python",
   "pygments_lexer": "ipython3",
   "version": "3.12.3"
  }
 },
 "nbformat": 4,
 "nbformat_minor": 2
}
