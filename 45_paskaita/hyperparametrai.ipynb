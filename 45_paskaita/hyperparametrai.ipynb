{
 "cells": [
  {
   "cell_type": "code",
   "execution_count": 6,
   "metadata": {},
   "outputs": [
    {
     "name": "stdout",
     "output_type": "stream",
     "text": [
      "Geriausi parametrai: {'max_depth': None, 'min_samples_split': 2, 'n_estimators': 100}\n",
      "Geriausias tikslumas: 0.9666666666666668\n"
     ]
    }
   ],
   "source": [
    "from sklearn.model_selection import GridSearchCV\n",
    "from sklearn.ensemble  import RandomForestClassifier\n",
    "from sklearn.datasets import load_iris\n",
    "from sklearn.metrics import accuracy_score\n",
    "\n",
    "iris = load_iris()  \n",
    "X = iris.data\n",
    "y = iris.target\n",
    "\n",
    "model = RandomForestClassifier()\n",
    "\n",
    "param_grid = {\n",
    "    'n_estimators': [10, 50, 100, 200], # medziu kiekis\n",
    "    'max_depth' : [None, 10, 20], # sprendimu kiekis medyje\n",
    "    'min_samples_split' : [2, 5, 10] # minimalus pavyzdziu kiekis\n",
    "}\n",
    "\n",
    "gris_search = GridSearchCV(estimator=model, param_grid=param_grid, cv=5, scoring='accuracy')\n",
    "gris_search.fit(X, y)\n",
    "\n",
    "print(f'Geriausi parametrai: {gris_search.best_params_}')\n",
    "print(f'Geriausias tikslumas: {gris_search.best_score_}')\n",
    "\n",
    "model2 = RandomForestClassifier(n_estimators=100, max_depth=None, min_samples_split=2)"
   ]
  },
  {
   "cell_type": "code",
   "execution_count": 9,
   "metadata": {},
   "outputs": [
    {
     "name": "stderr",
     "output_type": "stream",
     "text": [
      "c:\\Users\\ostap\\OneDrive\\Рабочий стол\\Mokymai\\Duomenu_mokslas\\mokymai\\Lib\\site-packages\\sklearn\\model_selection\\_search.py:318: UserWarning: The total space of parameters 3 is smaller than n_iter=100. Running 3 iterations. For exhaustive searches, use GridSearchCV.\n",
      "  warnings.warn(\n"
     ]
    },
    {
     "name": "stdout",
     "output_type": "stream",
     "text": [
      "Geriausi parametrai: {'n_estimators': 167, 'min_samples_split': 11, 'max_depth': None}\n",
      "Geriausias tikslumas: 0.9666666666666668\n"
     ]
    }
   ],
   "source": [
    "from sklearn.ensemble  import RandomForestClassifier\n",
    "from sklearn.datasets import load_iris\n",
    "from sklearn.metrics import accuracy_score\n",
    "from sklearn.model_selection import RandomizedSearchCV\n",
    "from random import randint\n",
    "\n",
    "iris = load_iris()  \n",
    "X = iris.data\n",
    "y = iris.target\n",
    "\n",
    "model = RandomForestClassifier()\n",
    "\n",
    "param_grid = {\n",
    "    'n_estimators': [randint(10, 200)], # medziu kiekis\n",
    "    'max_depth' : [None, 10, 20], # sprendimu kiekis medyje\n",
    "    'min_samples_split' : [randint(2, 20)] # minimalus pavyzdziu kiekis\n",
    "}\n",
    "\n",
    "random_search = RandomizedSearchCV(estimator=model, param_distributions=param_grid, n_iter=100, cv=5, scoring='accuracy', random_state=42)\n",
    "random_search.fit(X, y)\n",
    "\n",
    "print(f'Geriausi parametrai: {random_search.best_params_}')\n",
    "print(f'Geriausias tikslumas: {random_search.best_score_}')\n"
   ]
  },
  {
   "cell_type": "code",
   "execution_count": 11,
   "metadata": {},
   "outputs": [
    {
     "name": "stdout",
     "output_type": "stream",
     "text": [
      "100%|██████████| 100/100 [00:38<00:00,  2.62trial/s, best loss: 0.9533333333333334]\n",
      "Geriausi parametrai: {'max_depth': 1, 'min_samples_split': 10.0, 'n_estimators': 52.0}\n"
     ]
    }
   ],
   "source": [
    "from hyperopt import fmin, tpe, hp, Trials\n",
    "from hyperopt.pyll.base import scope \n",
    "from sklearn. ensemble import RandomForestClassifier\n",
    "from sklearn.datasets import load_iris\n",
    "from sklearn.model_selection import cross_val_score\n",
    "\n",
    "data = load_iris()\n",
    "X = data.data\n",
    "y = data.target\n",
    "\n",
    "def objective(params):\n",
    "    model = RandomForestClassifier(**params)\n",
    "    return cross_val_score(model, X, y, cv=5, scoring='accuracy').mean()\n",
    "\n",
    "models_params = {\n",
    "    'n_estimators': scope.int(hp.quniform('n_estimators', 10, 200, 1)), # medziu kiekis\n",
    "    'max_depth': hp.choice('max_depth', [None, 10, 20]), # sprendimu kiekis medyje\n",
    "    'min_samples_split': scope.int(hp.quniform('min_samples_split', 2, 20, 1)) # minimalus pavyzdžių kiekis\n",
    "}\n",
    "\n",
    "trials = Trials()\n",
    "best = fmin(fn=objective, space=models_params, algo=tpe.suggest, max_evals=100, trials=trials)\n",
    "print(f'Geriausi parametrai: {best}')"
   ]
  },
  {
   "cell_type": "code",
   "execution_count": 13,
   "metadata": {},
   "outputs": [
    {
     "name": "stdout",
     "output_type": "stream",
     "text": [
      "0.8947368421052632\n"
     ]
    }
   ],
   "source": [
    "from sklearn.model_selection import train_test_split\n",
    "from sklearn.metrics import accuracy_score\n",
    "iris = load_iris()\n",
    "\n",
    "\n",
    "X = iris.data\n",
    "Y = iris.target\n",
    "\n",
    "X_train, X_test, y_train, y_test = train_test_split(X, Y)\n",
    "\n",
    "model = RandomForestClassifier(max_depth=1, min_samples_split=10, n_estimators=52)\n",
    "model.fit(X_train, y_train)\n",
    "\n",
    "y_pred = model.predict(X_test)\n",
    "print(accuracy_score(y_test, y_pred))"
   ]
  }
 ],
 "metadata": {
  "kernelspec": {
   "display_name": "mokymai",
   "language": "python",
   "name": "python3"
  },
  "language_info": {
   "codemirror_mode": {
    "name": "ipython",
    "version": 3
   },
   "file_extension": ".py",
   "mimetype": "text/x-python",
   "name": "python",
   "nbconvert_exporter": "python",
   "pygments_lexer": "ipython3",
   "version": "3.12.3"
  }
 },
 "nbformat": 4,
 "nbformat_minor": 2
}
