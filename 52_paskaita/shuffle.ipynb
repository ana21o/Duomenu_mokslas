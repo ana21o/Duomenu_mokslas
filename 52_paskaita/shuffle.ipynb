{
 "cells": [
  {
   "cell_type": "code",
   "execution_count": 1,
   "metadata": {},
   "outputs": [],
   "source": [
    "import os\n",
    "import random \n",
    "import shutil\n",
    "\n",
    "folder_dir = 'pigu'\n",
    "split_size = (0.7, 0.3)\n",
    "\n",
    "train_dir = os.path.join(folder_dir, 'train')\n",
    "test_dir = os.path.join(folder_dir, 'test')\n",
    "\n",
    "shutil.rmtree(train_dir, ignore_errors=True)\n",
    "shutil.rmtree(test_dir, ignore_errors=True)\n",
    "\n",
    "for root, folder, img in os.walk(folder_dir):\n",
    "    folders = folder\n",
    "    break\n",
    "\n",
    "os.makedirs(train_dir)\n",
    "os.makedirs(test_dir)\n",
    "\n",
    "for folder in folders:\n",
    "    files = os.listdir(os.path.join(folder_dir, folder))\n",
    "    random.shuffle(files)\n",
    "    train_size = int(len(files) * split_size[0])\n",
    "    test_size = int(len(files) * split_size[1])\n",
    "    train_folder_path = os.path.join(train_dir, folder)\n",
    "    test_folder_path = os.path.join(test_dir, folder)\n",
    "    os.makedirs(train_folder_path)\n",
    "    os.makedirs(test_folder_path)\n",
    "\n",
    "\n",
    "    for i, img in enumerate(files):\n",
    "        if i < train_size:\n",
    "            # reikia nurodyti is kur paimam ir i kur dedam\n",
    "            shutil.copy(os.path.join(folder_dir, folder, img), os.path.join(train_folder_path, img))\n",
    "        else:\n",
    "            shutil.copy(os.path.join(folder_dir, folder, img), os.path.join(test_folder_path, img))\n",
    "\n"
   ]
  }
 ],
 "metadata": {
  "kernelspec": {
   "display_name": "mokymai",
   "language": "python",
   "name": "python3"
  },
  "language_info": {
   "codemirror_mode": {
    "name": "ipython",
    "version": 3
   },
   "file_extension": ".py",
   "mimetype": "text/x-python",
   "name": "python",
   "nbconvert_exporter": "python",
   "pygments_lexer": "ipython3",
   "version": "3.12.3"
  }
 },
 "nbformat": 4,
 "nbformat_minor": 2
}
