{
 "cells": [
  {
   "cell_type": "code",
   "execution_count": 1,
   "metadata": {},
   "outputs": [],
   "source": [
    "import numpy as np \n",
    "from tensorflow.keras.models import Sequential\n",
    "from tensorflow.keras.layers import LSTM, Dense"
   ]
  },
  {
   "cell_type": "code",
   "execution_count": 4,
   "metadata": {},
   "outputs": [
    {
     "name": "stdout",
     "output_type": "stream",
     "text": [
      "Epoch 1/30\n"
     ]
    },
    {
     "name": "stderr",
     "output_type": "stream",
     "text": [
      "c:\\Users\\ostap\\Desktop\\Mokymai\\Duomenu_mokslas\\mokymai\\Lib\\site-packages\\keras\\src\\layers\\rnn\\rnn.py:204: UserWarning: Do not pass an `input_shape`/`input_dim` argument to a layer. When using Sequential models, prefer using an `Input(shape)` object as the first layer in the model instead.\n",
      "  super().__init__(**kwargs)\n"
     ]
    },
    {
     "name": "stdout",
     "output_type": "stream",
     "text": [
      "\u001b[1m194/194\u001b[0m \u001b[32m━━━━━━━━━━━━━━━━━━━━\u001b[0m\u001b[37m\u001b[0m \u001b[1m10s\u001b[0m 44ms/step - loss: 3.5701\n",
      "Epoch 2/30\n",
      "\u001b[1m194/194\u001b[0m \u001b[32m━━━━━━━━━━━━━━━━━━━━\u001b[0m\u001b[37m\u001b[0m \u001b[1m9s\u001b[0m 46ms/step - loss: 3.1685\n",
      "Epoch 3/30\n",
      "\u001b[1m194/194\u001b[0m \u001b[32m━━━━━━━━━━━━━━━━━━━━\u001b[0m\u001b[37m\u001b[0m \u001b[1m8s\u001b[0m 40ms/step - loss: 2.8442\n",
      "Epoch 4/30\n",
      "\u001b[1m194/194\u001b[0m \u001b[32m━━━━━━━━━━━━━━━━━━━━\u001b[0m\u001b[37m\u001b[0m \u001b[1m9s\u001b[0m 48ms/step - loss: 2.5849\n",
      "Epoch 5/30\n",
      "\u001b[1m194/194\u001b[0m \u001b[32m━━━━━━━━━━━━━━━━━━━━\u001b[0m\u001b[37m\u001b[0m \u001b[1m9s\u001b[0m 48ms/step - loss: 2.4273\n",
      "Epoch 6/30\n",
      "\u001b[1m194/194\u001b[0m \u001b[32m━━━━━━━━━━━━━━━━━━━━\u001b[0m\u001b[37m\u001b[0m \u001b[1m9s\u001b[0m 46ms/step - loss: 2.2858\n",
      "Epoch 7/30\n",
      "\u001b[1m194/194\u001b[0m \u001b[32m━━━━━━━━━━━━━━━━━━━━\u001b[0m\u001b[37m\u001b[0m \u001b[1m7s\u001b[0m 38ms/step - loss: 2.1871\n",
      "Epoch 8/30\n",
      "\u001b[1m194/194\u001b[0m \u001b[32m━━━━━━━━━━━━━━━━━━━━\u001b[0m\u001b[37m\u001b[0m \u001b[1m8s\u001b[0m 39ms/step - loss: 2.1197\n",
      "Epoch 9/30\n",
      "\u001b[1m194/194\u001b[0m \u001b[32m━━━━━━━━━━━━━━━━━━━━\u001b[0m\u001b[37m\u001b[0m \u001b[1m7s\u001b[0m 38ms/step - loss: 2.0412\n",
      "Epoch 10/30\n",
      "\u001b[1m194/194\u001b[0m \u001b[32m━━━━━━━━━━━━━━━━━━━━\u001b[0m\u001b[37m\u001b[0m \u001b[1m7s\u001b[0m 38ms/step - loss: 1.9803\n",
      "Epoch 11/30\n",
      "\u001b[1m194/194\u001b[0m \u001b[32m━━━━━━━━━━━━━━━━━━━━\u001b[0m\u001b[37m\u001b[0m \u001b[1m7s\u001b[0m 38ms/step - loss: 1.9266\n",
      "Epoch 12/30\n",
      "\u001b[1m194/194\u001b[0m \u001b[32m━━━━━━━━━━━━━━━━━━━━\u001b[0m\u001b[37m\u001b[0m \u001b[1m7s\u001b[0m 38ms/step - loss: 1.8886\n",
      "Epoch 13/30\n",
      "\u001b[1m194/194\u001b[0m \u001b[32m━━━━━━━━━━━━━━━━━━━━\u001b[0m\u001b[37m\u001b[0m \u001b[1m7s\u001b[0m 38ms/step - loss: 1.8543\n",
      "Epoch 14/30\n",
      "\u001b[1m194/194\u001b[0m \u001b[32m━━━━━━━━━━━━━━━━━━━━\u001b[0m\u001b[37m\u001b[0m \u001b[1m7s\u001b[0m 38ms/step - loss: 1.8029\n",
      "Epoch 15/30\n",
      "\u001b[1m194/194\u001b[0m \u001b[32m━━━━━━━━━━━━━━━━━━━━\u001b[0m\u001b[37m\u001b[0m \u001b[1m7s\u001b[0m 38ms/step - loss: 1.7777\n",
      "Epoch 16/30\n",
      "\u001b[1m194/194\u001b[0m \u001b[32m━━━━━━━━━━━━━━━━━━━━\u001b[0m\u001b[37m\u001b[0m \u001b[1m7s\u001b[0m 38ms/step - loss: 1.7237\n",
      "Epoch 17/30\n",
      "\u001b[1m194/194\u001b[0m \u001b[32m━━━━━━━━━━━━━━━━━━━━\u001b[0m\u001b[37m\u001b[0m \u001b[1m7s\u001b[0m 38ms/step - loss: 1.7068\n",
      "Epoch 18/30\n",
      "\u001b[1m194/194\u001b[0m \u001b[32m━━━━━━━━━━━━━━━━━━━━\u001b[0m\u001b[37m\u001b[0m \u001b[1m7s\u001b[0m 38ms/step - loss: 1.6643\n",
      "Epoch 19/30\n",
      "\u001b[1m194/194\u001b[0m \u001b[32m━━━━━━━━━━━━━━━━━━━━\u001b[0m\u001b[37m\u001b[0m \u001b[1m7s\u001b[0m 38ms/step - loss: 1.6389\n",
      "Epoch 20/30\n",
      "\u001b[1m194/194\u001b[0m \u001b[32m━━━━━━━━━━━━━━━━━━━━\u001b[0m\u001b[37m\u001b[0m \u001b[1m7s\u001b[0m 38ms/step - loss: 1.6367\n",
      "Epoch 21/30\n",
      "\u001b[1m194/194\u001b[0m \u001b[32m━━━━━━━━━━━━━━━━━━━━\u001b[0m\u001b[37m\u001b[0m \u001b[1m7s\u001b[0m 38ms/step - loss: 1.6041\n",
      "Epoch 22/30\n",
      "\u001b[1m194/194\u001b[0m \u001b[32m━━━━━━━━━━━━━━━━━━━━\u001b[0m\u001b[37m\u001b[0m \u001b[1m7s\u001b[0m 38ms/step - loss: 1.5712\n",
      "Epoch 23/30\n",
      "\u001b[1m194/194\u001b[0m \u001b[32m━━━━━━━━━━━━━━━━━━━━\u001b[0m\u001b[37m\u001b[0m \u001b[1m7s\u001b[0m 38ms/step - loss: 1.5654\n",
      "Epoch 24/30\n",
      "\u001b[1m194/194\u001b[0m \u001b[32m━━━━━━━━━━━━━━━━━━━━\u001b[0m\u001b[37m\u001b[0m \u001b[1m7s\u001b[0m 38ms/step - loss: 1.5185\n",
      "Epoch 25/30\n",
      "\u001b[1m194/194\u001b[0m \u001b[32m━━━━━━━━━━━━━━━━━━━━\u001b[0m\u001b[37m\u001b[0m \u001b[1m7s\u001b[0m 38ms/step - loss: 1.4862\n",
      "Epoch 26/30\n",
      "\u001b[1m194/194\u001b[0m \u001b[32m━━━━━━━━━━━━━━━━━━━━\u001b[0m\u001b[37m\u001b[0m \u001b[1m7s\u001b[0m 38ms/step - loss: 1.4609\n",
      "Epoch 27/30\n",
      "\u001b[1m194/194\u001b[0m \u001b[32m━━━━━━━━━━━━━━━━━━━━\u001b[0m\u001b[37m\u001b[0m \u001b[1m7s\u001b[0m 38ms/step - loss: 1.4497\n",
      "Epoch 28/30\n",
      "\u001b[1m194/194\u001b[0m \u001b[32m━━━━━━━━━━━━━━━━━━━━\u001b[0m\u001b[37m\u001b[0m \u001b[1m7s\u001b[0m 38ms/step - loss: 1.4268\n",
      "Epoch 29/30\n",
      "\u001b[1m194/194\u001b[0m \u001b[32m━━━━━━━━━━━━━━━━━━━━\u001b[0m\u001b[37m\u001b[0m \u001b[1m7s\u001b[0m 37ms/step - loss: 1.3973\n",
      "Epoch 30/30\n",
      "\u001b[1m194/194\u001b[0m \u001b[32m━━━━━━━━━━━━━━━━━━━━\u001b[0m\u001b[37m\u001b[0m \u001b[1m7s\u001b[0m 38ms/step - loss: 1.3833\n"
     ]
    },
    {
     "data": {
      "text/plain": [
       "<keras.src.callbacks.history.History at 0x22002457770>"
      ]
     },
     "execution_count": 4,
     "metadata": {},
     "output_type": "execute_result"
    }
   ],
   "source": [
    "data = \"čia yra pradinis tekstas, vėliau jo sugeneruosim daugiau\"\n",
    "with open(\"tekstas.txt\", \"r\", encoding='utf-8') as f:\n",
    "   data = f.read()\n",
    "\n",
    "raides = sorted(list(set(data)))  # sukuriame sarasa unikaliu simboliu\n",
    "# priskriame kiekvienai raidei skaiciu ir suformuojame zodyna\n",
    "raides_su_index = {raide: index for index, raide in enumerate(raides)}\n",
    "\n",
    "max_length = 40 # nurodom koks bus sakinio ilgis\n",
    "step = 3 # nurodome zingsni\n",
    "sakiniai = []\n",
    "sekancios_raides = []\n",
    "\n",
    "for i in range(0, len(data) - max_length, step):\n",
    "  sakiniai.append(data[i:i + max_length]) # atkerpame gabaleli teksto\n",
    "  sekancios_raides.append(data[i+max_length]) # nurodom kokia yra sekanti raide po gabalelio teksto\n",
    "\n",
    "# pagal savo teksto duomenis, sukuriame matricas, uzpildytas nuliais\n",
    "x = np.zeros((len(sakiniai), max_length, len(raides)), dtype=bool)\n",
    "y = np.zeros((len(sakiniai), len(raides)), dtype=bool)\n",
    "\n",
    "# uzpildom x ir y masyvus\n",
    "for i, sakinys in enumerate(sakiniai):\n",
    "  for j, raide in enumerate(sakinys):\n",
    "    x[i, j, raides_su_index[raide]] = 1\n",
    "  y[i, raides_su_index[sekancios_raides[i]]] = 1\n",
    "\n",
    "model = Sequential([\n",
    "    LSTM(128, input_shape=(max_length, len(raides))),\n",
    "    Dense(len(raides), activation='softmax')\n",
    "])\n",
    "\n",
    "model.compile(optimizer='adam', loss='categorical_crossentropy')\n",
    "\n",
    "model.fit(x, y, batch_size=128, epochs=30)\n",
    "\n"
   ]
  },
  {
   "cell_type": "code",
   "execution_count": 5,
   "metadata": {},
   "outputs": [
    {
     "name": "stdout",
     "output_type": "stream",
     "text": [
      "čia yra pradinis tekstasaėsėalmtkateaa renkumas Getuvo ar šlovinta ir turis būtis kijų navaujo Seima parį kūndojai Seimam.\n",
      "Is vėlsę.\n",
      "1) susiūti leimo Tarčiomojo tverkąčių tarimo nuostats, pagyvirame,\n",
      " reigu vaip stitriaijo pruktūčiauų negalijo į taikefioletisi kulitą at diena Konstitucijos tenganiašiat sprorautimo trip pat tusketylių Teisme, kals bis velstyvesmi Teimmą, taip peferendas gaugami gralienamo nuo voldobiaus b\n"
     ]
    }
   ],
   "source": [
    "sugeneruotas_tekstas = \"čia yra pradinis tekstas\"\n",
    "\n",
    "for _ in range(400):\n",
    "  x_pred = np.zeros((1, max_length, len(raides)))\n",
    "  for i, raide in enumerate(sugeneruotas_tekstas[-max_length:]):\n",
    "    x_pred[0, i, raides_su_index[raide]] = 1\n",
    "\n",
    "  y_pred = model.predict(x_pred, verbose=0)[0]\n",
    "  next_index = np.random.choice(len(raides), p=y_pred)\n",
    "  next_raide = raides[next_index]\n",
    "\n",
    "  sugeneruotas_tekstas += next_raide\n",
    "\n",
    "print(sugeneruotas_tekstas)"
   ]
  }
 ],
 "metadata": {
  "kernelspec": {
   "display_name": "mokymai",
   "language": "python",
   "name": "python3"
  },
  "language_info": {
   "codemirror_mode": {
    "name": "ipython",
    "version": 3
   },
   "file_extension": ".py",
   "mimetype": "text/x-python",
   "name": "python",
   "nbconvert_exporter": "python",
   "pygments_lexer": "ipython3",
   "version": "3.12.3"
  }
 },
 "nbformat": 4,
 "nbformat_minor": 2
}
