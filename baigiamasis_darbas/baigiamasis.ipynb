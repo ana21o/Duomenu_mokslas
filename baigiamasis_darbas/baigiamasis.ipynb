{
 "cells": [
  {
   "cell_type": "markdown",
   "metadata": {},
   "source": [
    "# Baigiamasis darbas\n",
    "\n",
    "### Darbo tikslas:\n",
    "\n",
    "Projekto tikslas atlikti spėjimus (prognozes, pagal vartotojo įvedamą informaciją). Jūsų analizuojama tema gali būti pasirenkama pagal jūsų poreikius ir norus, tačiau galutinis projekto tikslas - turėti nišinį savo srities ekspertą.\n",
    "\n",
    "Galimas panaudojimo pavyzdys:\n",
    "\n",
    "Vartotojas per programinę sąsają (terminalą) įveda žinomas reikšmes apie nekilnojamo turto objektą (pvz. kambarių skaičius, plotas, adresas, statybos metai, pardavimo kaina), jūsų modelis geba analizuoti šiuos duomenis ir pateikti atsakymą ar verta šį objektą pirkti, parodo kokia prognozuojama šio objekto vertė, pateikia grafikus apie panašius būstus.\n",
    "\n",
    "Tai yra tik pavyzdys, jūsų projekto tema gali būti pasirenkama laisvai. (Galbūt jus domina medicina, finansai ar turite kitų interesų).\n",
    "\n",
    "## Projektas turi atitikti šiuos reikalavimus:\n",
    "\n",
    "- turite būti prikaupę pakankamą kiekį duomenų (kiekvieno projekto atveju tai bus individualu, tačiau reikėtų bent kelių tūkstančių įrašų). Duomenys turėtų būti sukaupti web-scrapping metu, juos papildyti galite duomenimis iš atvirųjų šaltinių (pvz., [kaggle](https://www.kaggle.com/), [UCI Machine Learning Repository](https://archive.ics.uci.edu/) arba kitų)\n",
    "- **turite atlikti duomenų valymą ir paruošimą**: pašalinti trūkstamas reikšmes, dubplikatus ir neteisingus duomenis, normalizuoti ir standartizuoti duomenis, jei reikia\n",
    "- Nustatyti geriausią modelį ir geriausius jo hiperparametrus, siekiant iš gauti kuo aukštesnį tikslumą, kiekvieną žingsnį argumentuojant (galima pateikti komentarus, palyginimus, grafikus)\n",
    "- Vertinant modelį naudokite tikslumą arba kitas, jums žinomas metrikas\n",
    "- Naudokite Grid Search arba Random Search hiperparametrų optimizavimui\n",
    "- Apmokius modelį, jums reikia sukurti objektinį programavimą naudojančią aplikaciją, kuri pagal vartotojo įvestį atliks prognozes (įvestis gali būti nuotrauka arba tekstas). \n",
    "- Vartojo įvesti parametrai turi būti saugomi duomenų bazėje, tai jums leis kaupti duomenis, apie tai kuo domisi jūsų vartotojai.\n",
    "- Parengti išsamų pristatymą, kuriame būtų aptariami visi žingsniai, metodai ir gauti rezultatai.\n",
    "\n",
    "## Vertinimo kriterijai\n",
    "\n",
    "- Projekto užbaigtumas: Ar visi žingsniai buvo atlikti?\n",
    "- Kodo kokybė: Ar kodas gerai struktūruotas, dokumentuotas ir efektyvus?\n",
    "- Duomenų analizė: Ar duomenų analizė buvo atlikta nuodugniai ir suprantamai?\n",
    "- Modelio kūrimas ir vertinimas: Ar modeliai buvo tinkamai sukurti, išmokyti ir įvertinti?\n",
    "- Rezultatų interpretacija: Ar rezultatai buvo aiškiai pateikti ir pagrįsti?\n",
    "- Pristatymas: Ar projekto ataskaita ir prezentacija yra aiškios?\n"
   ]
  },
  {
   "cell_type": "code",
   "execution_count": null,
   "metadata": {},
   "outputs": [],
   "source": []
  }
 ],
 "metadata": {
  "language_info": {
   "name": "python"
  }
 },
 "nbformat": 4,
 "nbformat_minor": 2
}
